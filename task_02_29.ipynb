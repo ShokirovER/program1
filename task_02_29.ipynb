{
  "nbformat": 4,
  "nbformat_minor": 0,
  "metadata": {
    "colab": {
      "provenance": [],
      "authorship_tag": "ABX9TyOj1sIaj0b7eVZmOae7n7rr",
      "include_colab_link": true
    },
    "kernelspec": {
      "name": "python3",
      "display_name": "Python 3"
    },
    "language_info": {
      "name": "python"
    }
  },
  "cells": [
    {
      "cell_type": "markdown",
      "metadata": {
        "id": "view-in-github",
        "colab_type": "text"
      },
      "source": [
        "<a href=\"https://colab.research.google.com/github/ShokirovER/program1/blob/main/task_02_29.ipynb\" target=\"_parent\"><img src=\"https://colab.research.google.com/assets/colab-badge.svg\" alt=\"Open In Colab\"/></a>"
      ]
    },
    {
      "cell_type": "code",
      "execution_count": 22,
      "metadata": {
        "colab": {
          "base_uri": "https://localhost:8080/"
        },
        "id": "8ubbbk5OBuxK",
        "outputId": "0abab8c1-d13d-4584-cd73-5afb3e66b581"
      },
      "outputs": [
        {
          "output_type": "stream",
          "name": "stdout",
          "text": [
            "n = 4\n",
            "Введите 1-й элемент списка: 1\n",
            "Введите 2-й элемент списка: 6\n",
            "Введите 3-й элемент списка: -10\n",
            "Введите 4-й элемент списка: -3\n",
            "Исходный список: [1.0, 6.0, -10.0, -3.0]\n",
            "Положительные числа: [1.0, 6.0]\n",
            "Отрицательные числа: [-10.0, -3.0]\n",
            "Ср. арифм.: 3.5\n",
            "Ср. геом.: 5.48\n"
          ]
        }
      ],
      "source": [
        "# Задание task_02_29.\n",
        "#\n",
        "# Выполнил: Шокиров Е.Р.\n",
        "# Группа: ЦИБ - 241\n",
        "\n",
        "\n",
        "\n",
        "n = int(input(\"n = \"))\n",
        "\n",
        "nums = []\n",
        "for i in range(n):\n",
        "    num = float(input(f\"Введите {i+1}-й элемент списка: \"))\n",
        "    nums.append(num)\n",
        "\n",
        "nums_pos = [x for x in nums if x > 0]\n",
        "nums_neg = []\n",
        "for x in nums:\n",
        "    if x < 0:\n",
        "        nums_neg.append(x)\n",
        "\n",
        "sr_ar = sum(nums_pos) / len(nums_pos) if nums_pos else 0\n",
        "\n",
        "from math import prod\n",
        "sr_geom = (prod(nums_neg)) ** (1 / len(nums_neg)) if nums_neg else 0\n",
        "\n",
        "print(\"Исходный список:\", [round(x, 2) for x in nums])\n",
        "print(\"Положительные числа:\", [round(x, 2) for x in nums_pos])\n",
        "print(\"Отрицательные числа:\", [round(x, 2) for x in nums_neg])\n",
        "print(\"Ср. арифм.:\", round(sr_ar, 2))\n",
        "print(\"Ср. геом.:\", round(sr_geom, 2))\n",
        "\n",
        "# --------------\n",
        "# Пример вывода:\n",
        "#\n",
        "# n = 4\n",
        "# Введите 1-й элемент списка: 1\n",
        "# Введите 2-й элемент списка: 6\n",
        "# Введите 3-й элемент списка: -10\n",
        "# Введите 4-й элемент списка: -3\n",
        "# Исходный список: [1.0, 6.0, -10.0, -3.0]\n",
        "# Положительные числа: [1.0, 6.0]\n",
        "# Отрицательные числа: [-10.0, -3.0]\n",
        "# Ср. арифм.: 3.50\n",
        "# Ср. геом.: 5.48"
      ]
    }
  ]
}