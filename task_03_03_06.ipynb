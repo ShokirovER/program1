{
  "nbformat": 4,
  "nbformat_minor": 0,
  "metadata": {
    "colab": {
      "provenance": [],
      "authorship_tag": "ABX9TyMkM4k9s5isEOxqmzHp8UWv",
      "include_colab_link": true
    },
    "kernelspec": {
      "name": "python3",
      "display_name": "Python 3"
    },
    "language_info": {
      "name": "python"
    }
  },
  "cells": [
    {
      "cell_type": "markdown",
      "metadata": {
        "id": "view-in-github",
        "colab_type": "text"
      },
      "source": [
        "<a href=\"https://colab.research.google.com/github/ShokirovER/program1/blob/main/task_03_03_06.ipynb\" target=\"_parent\"><img src=\"https://colab.research.google.com/assets/colab-badge.svg\" alt=\"Open In Colab\"/></a>"
      ]
    },
    {
      "cell_type": "code",
      "execution_count": 7,
      "metadata": {
        "colab": {
          "base_uri": "https://localhost:8080/"
        },
        "id": "ILRKgidir1rx",
        "outputId": "341f0641-8a2b-4b4e-8da3-f3f676d722f2"
      },
      "outputs": [
        {
          "output_type": "stream",
          "name": "stdout",
          "text": [
            "Введите кол-во безработных (чел.): 1000\n",
            "Введите кол-во занятых (чел.): 500\n",
            "Уровень безработицы = 66.7%\n",
            "Введите кол-во безработных (чел.): 700\n",
            "Введите кол-во занятых (чел.): 1000\n",
            "Уровень безработицы = 41.2%\n"
          ]
        }
      ],
      "source": [
        "# Задание task_03_03_06.\n",
        "#\n",
        "# Выполнил: Шокиров Е.Р.\n",
        "# Группа: ЦИБ-241\n",
        "\n",
        "\n",
        "\n",
        "\"\"\"\n",
        "Ошибки (номера строк через пробел, данная строка - №2): !!!\n",
        "\"\"\"\n",
        "\n",
        "\n",
        "def unemployment_rate(unemployed, employed):\n",
        "    \"\"\"Вернуть уровень безработицы (УБ) в долях 1.\n",
        "\n",
        "       Расчет по формуле: УБ = Безработные / (Занятые + Безработные).\n",
        "    \"\"\"\n",
        "    return unemployed / (unemployed + employed)\n",
        "\n",
        "\n",
        "unemployed = int(input(\"Введите кол-во безработных (чел.): \"))\n",
        "employed = int(input(\"Введите кол-во занятых (чел.): \"))\n",
        "rate = unemployment_rate(unemployed, employed)\n",
        "print(\"Уровень безработицы = {:.1%}\".format(rate))\n",
        "\n",
        "\"\"\"\n",
        "Ошибки (номера строк через пробел, данная строка - №2): 12 13 14\n",
        "\"\"\"\n",
        "\n",
        "\n",
        "\n",
        "def unemployment_rate(unemployed, employed):\n",
        "    \"\"\"Вернуть уровень безработицы (УБ) в долях 1.\n",
        "\n",
        "       Расчет по формуле: УБ = Безработные / (Занятые + Безработные).\n",
        "    \"\"\"\n",
        "    try:\n",
        "        return unemployed / (unemployed + employed)\n",
        "    except ZeroDivisionError:\n",
        "        print(\"Ошибка: сумма занятых и безработных не может быть нулем!\")\n",
        "        return None\n",
        "    except TypeError:\n",
        "        print(\"Ошибка: введенные значения должны быть числами!\")\n",
        "        return None\n",
        "\n",
        "\n",
        "try:\n",
        "    unemployed = int(input(\"Введите кол-во безработных (чел.): \"))\n",
        "    employed = int(input(\"Введите кол-во занятых (чел.): \"))\n",
        "    rate = unemployment_rate(unemployed, employed)\n",
        "    if rate is not None:\n",
        "        print(\"Уровень безработицы = {:.1%}\".format(rate))\n",
        "except ValueError:\n",
        "    print(\"Ошибка: введите целые числа для количества безработных и занятых!\")"
      ]
    }
  ]
}