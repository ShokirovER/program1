{
  "nbformat": 4,
  "nbformat_minor": 0,
  "metadata": {
    "colab": {
      "provenance": [],
      "authorship_tag": "ABX9TyMtoMcp3+I5TdbpGqcec+54",
      "include_colab_link": true
    },
    "kernelspec": {
      "name": "python3",
      "display_name": "Python 3"
    },
    "language_info": {
      "name": "python"
    }
  },
  "cells": [
    {
      "cell_type": "markdown",
      "metadata": {
        "id": "view-in-github",
        "colab_type": "text"
      },
      "source": [
        "<a href=\"https://colab.research.google.com/github/ShokirovER/program1/blob/main/task_02_11.ipynb\" target=\"_parent\"><img src=\"https://colab.research.google.com/assets/colab-badge.svg\" alt=\"Open In Colab\"/></a>"
      ]
    },
    {
      "cell_type": "code",
      "execution_count": 20,
      "metadata": {
        "colab": {
          "base_uri": "https://localhost:8080/"
        },
        "id": "KQM5nZ6UjVRV",
        "outputId": "289b4679-de44-4efa-9837-6497099dd6e3"
      },
      "outputs": [
        {
          "output_type": "stream",
          "name": "stdout",
          "text": [
            "start = 100\n",
            "k = 7\n",
            "s = 9\n",
            "117\n",
            "207\n",
            "297\n",
            "387\n",
            "477\n",
            "567\n",
            "657\n",
            "747\n",
            "837\n",
            "927\n"
          ]
        }
      ],
      "source": [
        "# Задание task_02_11.\n",
        "#\n",
        "# Выполнил: Шокиров Е.Р.\n",
        "# Группа: ЦИБ - 241\n",
        "\n",
        "\n",
        "\n",
        "start = int(input('start = '))\n",
        "k = int(input('k = '))\n",
        "s = int(input('s = '))\n",
        "n_count = 0\n",
        "\n",
        "while n_count < 10:\n",
        "  start += 1\n",
        "  if start%10==k and start%9==0:\n",
        "    n_count += 1\n",
        "    print(start)\n",
        "\n",
        "\n",
        "\n",
        "# --------------\n",
        "# Пример вывода:\n",
        "#\n",
        "# start = 100\n",
        "# k = 7\n",
        "# s = 9\n",
        "# 117 207 297 387 477 567 657 747 837 927"
      ]
    }
  ]
}