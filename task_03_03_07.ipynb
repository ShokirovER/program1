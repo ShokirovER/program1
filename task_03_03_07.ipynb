{
  "nbformat": 4,
  "nbformat_minor": 0,
  "metadata": {
    "colab": {
      "provenance": [],
      "authorship_tag": "ABX9TyPyxCiADVKIXUph0LcVkISU",
      "include_colab_link": true
    },
    "kernelspec": {
      "name": "python3",
      "display_name": "Python 3"
    },
    "language_info": {
      "name": "python"
    }
  },
  "cells": [
    {
      "cell_type": "markdown",
      "metadata": {
        "id": "view-in-github",
        "colab_type": "text"
      },
      "source": [
        "<a href=\"https://colab.research.google.com/github/ShokirovER/program1/blob/main/task_03_03_07.ipynb\" target=\"_parent\"><img src=\"https://colab.research.google.com/assets/colab-badge.svg\" alt=\"Open In Colab\"/></a>"
      ]
    },
    {
      "cell_type": "code",
      "execution_count": 10,
      "metadata": {
        "colab": {
          "base_uri": "https://localhost:8080/"
        },
        "id": "ILRKgidir1rx",
        "outputId": "ade0b3ab-fc66-4279-9890-0e978ef16d72"
      },
      "outputs": [
        {
          "output_type": "stream",
          "name": "stdout",
          "text": [
            "x=1\n",
            "y=2\n",
            "1\n",
            "x=2\n",
            "y=\n",
            "Ошибка ввода: invalid literal for int() with base 10: ''\n"
          ]
        }
      ],
      "source": [
        "# Задание task_03_03_07.\n",
        "#\n",
        "# Выполнил: Шокиров Е.Р.\n",
        "# Группа: ЦИБ-241\n",
        "\n",
        "\n",
        "\n",
        "\"\"\"\n",
        "Ошибки (номера строк через пробел, данная строка - №2): !!!\n",
        "\"\"\"\n",
        "\n",
        "\n",
        "def power(x, y=2):\n",
        "    \"\"\"Вернуть x^y.\"\"\"\n",
        "    if y == 0:\n",
        "        return 1\n",
        "    else:\n",
        "        return x * power(x, y - 1)\n",
        "\n",
        "\n",
        "x = int(input(\"x=\"))\n",
        "y = int(input(\"y=\"))\n",
        "print(power(x, y))\n",
        "\n",
        "\n",
        "\"\"\"\n",
        "Ошибки (номера строк через пробел, данная строка - №2): 12 13 14\n",
        "\"\"\"\n",
        "\n",
        "\n",
        "\n",
        "def power(x, y=2):\n",
        "    \"\"\"Вернуть x^y.\"\"\"\n",
        "    if y == 0:\n",
        "        return 1\n",
        "    elif y < 0:\n",
        "        raise ValueError(\"Отрицательные степени не поддерживаются\")\n",
        "    else:\n",
        "        return x * power(x, y - 1)\n",
        "\n",
        "\n",
        "try:\n",
        "    x = int(input(\"x=\"))\n",
        "    y = int(input(\"y=\"))\n",
        "    if y > 1000:  # Ограничиваем глубину рекурсии\n",
        "        raise ValueError(\"Слишком большая степень\")\n",
        "    print(power(x, y))\n",
        "except ValueError as e:\n",
        "    print(f\"Ошибка ввода: {e}\")\n",
        "except RecursionError:\n",
        "    print(\"Ошибка: слишком глубокая рекурсия\")\n",
        "except Exception as e:\n",
        "    print(f\"Неизвестная ошибка: {e}\")"
      ]
    }
  ]
}