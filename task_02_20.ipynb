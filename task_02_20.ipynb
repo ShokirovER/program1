{
  "nbformat": 4,
  "nbformat_minor": 0,
  "metadata": {
    "colab": {
      "provenance": [],
      "authorship_tag": "ABX9TyPnywd9YRhGkWXTT7rOWa1x",
      "include_colab_link": true
    },
    "kernelspec": {
      "name": "python3",
      "display_name": "Python 3"
    },
    "language_info": {
      "name": "python"
    }
  },
  "cells": [
    {
      "cell_type": "markdown",
      "metadata": {
        "id": "view-in-github",
        "colab_type": "text"
      },
      "source": [
        "<a href=\"https://colab.research.google.com/github/ShokirovER/program1/blob/main/task_02_20.ipynb\" target=\"_parent\"><img src=\"https://colab.research.google.com/assets/colab-badge.svg\" alt=\"Open In Colab\"/></a>"
      ]
    },
    {
      "cell_type": "code",
      "execution_count": 29,
      "metadata": {
        "colab": {
          "base_uri": "https://localhost:8080/"
        },
        "id": "NlwTZmvwmLAO",
        "outputId": "e14d356e-3466-45d4-8ac9-ba2ad100ef6b"
      },
      "outputs": [
        {
          "output_type": "stream",
          "name": "stdout",
          "text": [
            "n = 3\n",
            "102 111 120 201 210 300 "
          ]
        }
      ],
      "source": [
        "# Задание task_02_20.\n",
        "#\n",
        "# Выполнил: Шокиров Е.Р.\n",
        "# Группа: ЦИБ - 241\n",
        "\n",
        "\n",
        "\n",
        "n = int(input('n = '))\n",
        "\n",
        "for i in range(100, 1000):\n",
        "  last_digit = i%10\n",
        "  second_digit = i // 10 % 10\n",
        "  first_digit = i // 100\n",
        "  if first_digit + second_digit + last_digit == n:\n",
        "    print(i, end = ' ')\n",
        "\n",
        "# --------------\n",
        "# Пример вывода:\n",
        "#\n",
        "# n = 3\n",
        "# 102 111 120 201 210 300"
      ]
    }
  ]
}