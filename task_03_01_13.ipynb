{
  "nbformat": 4,
  "nbformat_minor": 0,
  "metadata": {
    "colab": {
      "provenance": [],
      "authorship_tag": "ABX9TyNF0yxw+nGxC9/3P2fd3hgc",
      "include_colab_link": true
    },
    "kernelspec": {
      "name": "python3",
      "display_name": "Python 3"
    },
    "language_info": {
      "name": "python"
    }
  },
  "cells": [
    {
      "cell_type": "markdown",
      "metadata": {
        "id": "view-in-github",
        "colab_type": "text"
      },
      "source": [
        "<a href=\"https://colab.research.google.com/github/ShokirovER/program1/blob/main/task_03_01_13.ipynb\" target=\"_parent\"><img src=\"https://colab.research.google.com/assets/colab-badge.svg\" alt=\"Open In Colab\"/></a>"
      ]
    },
    {
      "cell_type": "code",
      "execution_count": 11,
      "metadata": {
        "colab": {
          "base_uri": "https://localhost:8080/"
        },
        "id": "llK_wSGKxkCF",
        "outputId": "5e9307aa-4507-43c5-b85e-b9975fb702bb"
      },
      "outputs": [
        {
          "output_type": "stream",
          "name": "stdout",
          "text": [
            "1. Партия №3 | 27 | 26.47%\n",
            "2. Партия №1 | 22 | 21.57%\n",
            "3. Партия №2 | 20 | 19.61%\n",
            "4. Партия №5 | 14 | 13.73%\n",
            "5. Партия №4 | 12 | 11.76%\n",
            "6. Испорчено |  7 | 6.86%\n"
          ]
        }
      ],
      "source": [
        "# Задание task_03_01_13.\n",
        "#\n",
        "# Выполнил: Шокиров Е.Р.\n",
        "# Группа: ЦИБ-241\n",
        "\n",
        "# В данной задаче ввод с клавиатуры не нужен.\n",
        "#\n",
        "# Используйте значения 'votes', при необходимости измените его для\n",
        "# проверки правильности решения\n",
        "\n",
        "votes = [\n",
        "    2, 3, -1, 2, 5, 1, 1, 4, 1, 1, 1, 3, 1, 3, 5, -1, 5, 2, 5, 5,\n",
        "    3, 3, 2, 3, 3, 2, 2, 1, 3, 2, 5, 2, 2, 4, 1, 1, 3, 2, 2, 3, 3,\n",
        "    3, 1, 4, 2, 1, 4, 2, 3, 3, 3, -1, 5, 3, 1, 4, 5, 1, 1, 3, 3,\n",
        "    3, -1, 5, 3, 3, 2, 5, 1, 1, 5, -1, 1, 2, 2, 3, -1, 4, 2, 5, 4,\n",
        "    2, -1, 3, 1, 4, 3, 5, 4, 1, 5, 3, 2, 4, 2, 1, 3, 4, 1, 1, 3, 4\n",
        "]\n",
        "\n",
        "parties = {\n",
        "    1: \"Партия №1\", 2: \"Партия №2\", 3: \"Партия №3\",\n",
        "    4: \"Партия №4\", 5: \"Партия №5\", -1: \"Испорчено\"\n",
        "}\n",
        "\n",
        "\n",
        "def parties_votes(parties, votes):\n",
        "    \"\"\"Вернуть информацию о голосах 'votes', отданных за партии 'parties'.\n",
        "    Испорченные бланки также присутствуют в результате.\n",
        "\n",
        "    Параметры:\n",
        "        - parties (dict): информация о партиях (номер голоса: название);\n",
        "        - votes (list): номера голосов.\n",
        "\n",
        "    Результат:\n",
        "        dict: название: кол-во отданных голосов.\"\"\"\n",
        "    vote_count = {party: 0 for party in parties.values()}\n",
        "    for vote in votes:\n",
        "        vote_count[parties[vote]] += 1\n",
        "    return vote_count\n",
        "\n",
        "\n",
        "def print_results(votes_for_p):\n",
        "    \"\"\"Вывести результаты голосования в формате:\n",
        "\n",
        "    1. Партия №2 | 1111 | 58.21%\n",
        "    2. Партия №4 |  999 | 38.14%\n",
        "\n",
        "    Параметры:\n",
        "        - votes_for_p (dict): результат функции parties_votes().\n",
        "    \"\"\"\n",
        "    total_votes = sum(votes_for_p.values())\n",
        "    sorted_votes = sorted(votes_for_p.items(), key=lambda x: x[1], reverse=True)\n",
        "    for i, (party, count) in enumerate(sorted_votes, 1):\n",
        "        percentage = (count / total_votes) * 100\n",
        "        print(f\"{i}. {party} | {count:2} | {percentage:.2f}%\")\n",
        "\n",
        "\n",
        "print_results(parties_votes(parties, votes))\n",
        "\n",
        "# --------------\n",
        "# Пример вывода:\n",
        "#\n",
        "# 1. Партия №3 | 27 | 26.47%\n",
        "# 2. Партия №1 | 22 | 21.57%\n",
        "# 3. Партия №2 | 20 | 19.61%\n",
        "# 4. Партия №5 | 14 | 13.73%\n",
        "# 5. Партия №4 | 12 | 11.76%\n",
        "# 6. Испорчено |  7 |  6.86%"
      ]
    }
  ]
}