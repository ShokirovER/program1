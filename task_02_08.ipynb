{
  "nbformat": 4,
  "nbformat_minor": 0,
  "metadata": {
    "colab": {
      "provenance": [],
      "authorship_tag": "ABX9TyMFWSIrdyL4OLQ6O5z47liY",
      "include_colab_link": true
    },
    "kernelspec": {
      "name": "python3",
      "display_name": "Python 3"
    },
    "language_info": {
      "name": "python"
    }
  },
  "cells": [
    {
      "cell_type": "markdown",
      "metadata": {
        "id": "view-in-github",
        "colab_type": "text"
      },
      "source": [
        "<a href=\"https://colab.research.google.com/github/ShokirovER/program1/blob/main/task_02_08.ipynb\" target=\"_parent\"><img src=\"https://colab.research.google.com/assets/colab-badge.svg\" alt=\"Open In Colab\"/></a>"
      ]
    },
    {
      "cell_type": "code",
      "execution_count": 67,
      "metadata": {
        "colab": {
          "base_uri": "https://localhost:8080/"
        },
        "id": "uUIs85Du8uZU",
        "outputId": "a6b26f12-296f-4564-cd91-7a3c9a26bb84"
      },
      "outputs": [
        {
          "output_type": "stream",
          "name": "stdout",
          "text": [
            "n = 10\n",
            "0\n",
            "5\n"
          ]
        }
      ],
      "source": [
        "# Задание task_02_08.\n",
        "#\n",
        "# Выполнил: Шокиров Е.Р.\n",
        "# Группа: ЦИБ - 241\n",
        "\n",
        "\n",
        "\n",
        "n = int(input('n = '))\n",
        "\n",
        "x = 0\n",
        "print(x)\n",
        "while x+5<n:\n",
        "  x += 5\n",
        "  print(x)\n",
        "\n",
        "# --------------\n",
        "# Пример вывода:\n",
        "#\n",
        "# n = 0\n",
        "# 0\n",
        "#\n",
        "# n = 10\n",
        "# 0\n",
        "# 5\n",
        "# 10\n",
        "#\n",
        "# n = 12\n",
        "# 0\n",
        "# 5\n",
        "# 10"
      ]
    }
  ]
}