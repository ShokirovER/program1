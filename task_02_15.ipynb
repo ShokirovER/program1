{
  "nbformat": 4,
  "nbformat_minor": 0,
  "metadata": {
    "colab": {
      "provenance": [],
      "authorship_tag": "ABX9TyPZ2+6vODZ50Y6Oz8axSLq9",
      "include_colab_link": true
    },
    "kernelspec": {
      "name": "python3",
      "display_name": "Python 3"
    },
    "language_info": {
      "name": "python"
    }
  },
  "cells": [
    {
      "cell_type": "markdown",
      "metadata": {
        "id": "view-in-github",
        "colab_type": "text"
      },
      "source": [
        "<a href=\"https://colab.research.google.com/github/ShokirovER/program1/blob/main/task_02_15.ipynb\" target=\"_parent\"><img src=\"https://colab.research.google.com/assets/colab-badge.svg\" alt=\"Open In Colab\"/></a>"
      ]
    },
    {
      "cell_type": "code",
      "execution_count": 59,
      "metadata": {
        "colab": {
          "base_uri": "https://localhost:8080/"
        },
        "id": "wRTWrV34YTwW",
        "outputId": "b3280e7c-17ed-447f-c23a-132a2efa9dcc"
      },
      "outputs": [
        {
          "output_type": "stream",
          "name": "stdout",
          "text": [
            "Грузоподъемность грузовика (кг.) = 10\n",
            "Количество предметов = 2\n",
            "Масса 1-го предмета (кг.) = 3\n",
            "Масса 2-го предмета (кг.) = 3\n",
            "Да\n"
          ]
        }
      ],
      "source": [
        "# Задание task_02_15.\n",
        "#\n",
        "# Выполнил: Шокиров Е.Р.\n",
        "# Группа: ЦИБ - 241\n",
        "\n",
        "\n",
        "\n",
        "p = int(input('Грузоподъемность грузовика (кг.) = '))\n",
        "n = int(input('Количество предметов = '))\n",
        "\n",
        "total = 0\n",
        "for i in range(n):\n",
        "  weight = int(input('Масса {}-го предмета (кг.) = '.format(i+1)))\n",
        "  total = total + weight\n",
        "\n",
        "if total < p:\n",
        "  print('Да')\n",
        "else:\n",
        "  print('Нет')\n",
        "# --------------\n",
        "# Пример вывода:\n",
        "#\n",
        "# Грузоподъемность грузовика (кг.) = 10\n",
        "# Количество предметов = 2\n",
        "# Масса 1-го предмета (кг.) = 3\n",
        "# Масса 2-го предмета (кг.) = 3\n",
        "# Да"
      ]
    }
  ]
}