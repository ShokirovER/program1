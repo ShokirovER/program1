{
  "nbformat": 4,
  "nbformat_minor": 0,
  "metadata": {
    "colab": {
      "provenance": [],
      "authorship_tag": "ABX9TyO5KE+VkRauM9L4U+4OUdLW",
      "include_colab_link": true
    },
    "kernelspec": {
      "name": "python3",
      "display_name": "Python 3"
    },
    "language_info": {
      "name": "python"
    }
  },
  "cells": [
    {
      "cell_type": "markdown",
      "metadata": {
        "id": "view-in-github",
        "colab_type": "text"
      },
      "source": [
        "<a href=\"https://colab.research.google.com/github/ShokirovER/program1/blob/main/task_02_17.ipynb\" target=\"_parent\"><img src=\"https://colab.research.google.com/assets/colab-badge.svg\" alt=\"Open In Colab\"/></a>"
      ]
    },
    {
      "cell_type": "code",
      "execution_count": 19,
      "metadata": {
        "colab": {
          "base_uri": "https://localhost:8080/"
        },
        "id": "NlwTZmvwmLAO",
        "outputId": "cb36cf51-4795-451d-c9fa-a829c18623d3"
      },
      "outputs": [
        {
          "output_type": "stream",
          "name": "stdout",
          "text": [
            "Введите 1-е число: 1\n",
            "Введите 2-е число: 2\n",
            "Введите 3-е число: 3\n",
            "Введите 4-е число: 4\n",
            "Введите 5-е число: 0\n",
            "Сумма = 10\n",
            "Количество = 4\n"
          ]
        }
      ],
      "source": [
        "# Задание task_02_17.\n",
        "#\n",
        "# Выполнил: Шокиров Е.Р.\n",
        "# Группа: ЦИБ - 241\n",
        "\n",
        "\n",
        "\n",
        "nums_sum = 0  # сумма\n",
        "nums_count = 0  # количество\n",
        "\n",
        "a = int(input('Введите 1-е число: '))\n",
        "nums_sum +=a\n",
        "\n",
        "while True:\n",
        "  if a !=0:\n",
        "    nums_count +=1\n",
        "    a = int(input('Введите {}-е число: '.format(nums_count+1)))\n",
        "    nums_sum +=a\n",
        "  if a ==0:\n",
        "    break\n",
        "print('Сумма =', nums_sum)\n",
        "print('Количество =', nums_count)\n",
        "# --------------\n",
        "# Пример вывода:\n",
        "#\n",
        "# Введите 1-е число: 1\n",
        "# Введите 2-е число: 2\n",
        "# Введите 3-е число: 3\n",
        "# Введите 4-е число: 4\n",
        "# Введите 5-е число: 0\n",
        "# Сумма = 10\n",
        "# Количество = 4\n",
        "#\n",
        "# Введите 1-е число: 0\n",
        "# Сумма = 0\n",
        "# Количество = 0"
      ]
    }
  ]
}