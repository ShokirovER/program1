{
  "nbformat": 4,
  "nbformat_minor": 0,
  "metadata": {
    "colab": {
      "provenance": [],
      "authorship_tag": "ABX9TyP5I6C4ygnFzgYZ1syipcDA",
      "include_colab_link": true
    },
    "kernelspec": {
      "name": "python3",
      "display_name": "Python 3"
    },
    "language_info": {
      "name": "python"
    }
  },
  "cells": [
    {
      "cell_type": "markdown",
      "metadata": {
        "id": "view-in-github",
        "colab_type": "text"
      },
      "source": [
        "<a href=\"https://colab.research.google.com/github/ShokirovER/program1/blob/main/task_02_34.ipynb\" target=\"_parent\"><img src=\"https://colab.research.google.com/assets/colab-badge.svg\" alt=\"Open In Colab\"/></a>"
      ]
    },
    {
      "cell_type": "code",
      "execution_count": 7,
      "metadata": {
        "colab": {
          "base_uri": "https://localhost:8080/"
        },
        "id": "a2_y0QQnZnxb",
        "outputId": "c6b4b098-7c70-4bd3-9ebc-6b1681ba8f28"
      },
      "outputs": [
        {
          "output_type": "stream",
          "name": "stdout",
          "text": [
            "Количество банков = 3\n",
            "Банк_1 50000 5.2\n",
            "Банк_2 20000 3.7\n",
            "Банк_3 45000 6.8\n",
            "Самый доступный банк: Банк_2, первоначальная сумма: 20000.00 руб.\n",
            "Самый выгодный банк: Банк_3, прибыль: 3060.00 руб.\n"
          ]
        }
      ],
      "source": [
        "#\n",
        "# Выполнил: Шокиров Е.Р.\n",
        "# Группа: ЦИБ - 241\n",
        "\n",
        "\n",
        "\n",
        "# 1. Заполнение списка\n",
        "\n",
        "# Используйте данный список для собственных тестов,\n",
        "# чтобы избежать постоянного ввода значений\n",
        "# Перед автоматической проверкой удалите его\n",
        "# и используйте ввод с клавиатуры\n",
        "# deposits = [\n",
        "#    {\"name\": \"Банк_1\", \"initial_sum\": 50000, \"rate\": 5.2},\n",
        "#    {\"name\": \"Банк_2\", \"initial_sum\": 20000, \"rate\": 3.7},\n",
        "#    {\"name\": \"Банк_3\", \"initial_sum\": 45000, \"rate\": 6.8},\n",
        "# ]\n",
        "\n",
        "n = int(input(\"Количество банков = \"))\n",
        "\n",
        "deposits = []\n",
        "for _ in range(n):\n",
        "    bank_info = input().split()\n",
        "    bank_name = bank_info[0]\n",
        "    initial_sum = int(bank_info[1])\n",
        "    rate = float(bank_info[2])\n",
        "    deposits.append({\"name\": bank_name, \"initial_sum\": initial_sum, \"rate\": rate})\n",
        "\n",
        "# 2. Самый доступный банк (с наименьшей первоначальной суммой)\n",
        "min_bank = min(deposits, key=lambda x: x[\"initial_sum\"])\n",
        "print(f\"Самый доступный банк: {min_bank['name']}, первоначальная сумма: {min_bank['initial_sum']:.2f} руб.\")\n",
        "\n",
        "# 3. Самый выгодный банк\n",
        "#    прибыль = сумма * процент / 100\n",
        "most_profitable_bank = max(deposits, key=lambda x: x[\"initial_sum\"] * x[\"rate\"] / 100)\n",
        "profit = most_profitable_bank[\"initial_sum\"] * most_profitable_bank[\"rate\"] / 100\n",
        "print(f\"Самый выгодный банк: {most_profitable_bank['name']}, прибыль: {profit:.2f} руб.\")\n",
        "\n",
        "# --------------\n",
        "# Пример вывода:\n",
        "#\n",
        "# Количество банков = 3\n",
        "# Банк_1 50000 5.2\n",
        "# Банк_2 20000 3.7\n",
        "# Банк_3 45000 6.8\n",
        "# Самый доступный банк: Банк_2, первоначальная сумма: 20000.00 руб.\n",
        "# Самый выгодный банк: Банк_3, прибыль: 3060.00 руб."
      ]
    }
  ]
}