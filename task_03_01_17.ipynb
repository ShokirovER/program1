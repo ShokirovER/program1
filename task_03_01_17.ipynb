{
  "nbformat": 4,
  "nbformat_minor": 0,
  "metadata": {
    "colab": {
      "provenance": [],
      "authorship_tag": "ABX9TyMpX7Qxdf1CqWd5xpQoLc6S",
      "include_colab_link": true
    },
    "kernelspec": {
      "name": "python3",
      "display_name": "Python 3"
    },
    "language_info": {
      "name": "python"
    }
  },
  "cells": [
    {
      "cell_type": "markdown",
      "metadata": {
        "id": "view-in-github",
        "colab_type": "text"
      },
      "source": [
        "<a href=\"https://colab.research.google.com/github/ShokirovER/program1/blob/main/task_03_01_17.ipynb\" target=\"_parent\"><img src=\"https://colab.research.google.com/assets/colab-badge.svg\" alt=\"Open In Colab\"/></a>"
      ]
    },
    {
      "cell_type": "code",
      "execution_count": 8,
      "metadata": {
        "colab": {
          "base_uri": "https://localhost:8080/"
        },
        "id": "llK_wSGKxkCF",
        "outputId": "aaa3237a-b448-40f7-f7ef-dfbd48ffe1a3"
      },
      "outputs": [
        {
          "output_type": "stream",
          "name": "stdout",
          "text": [
            "15\n",
            "5\n"
          ]
        }
      ],
      "source": [
        "# Задание task_03_01_17.\n",
        "#\n",
        "# Выполнил: Шокиров Е.Р.\n",
        "# Группа: ЦИБ-241\n",
        "\n",
        "def digits_sum(value):\n",
        "    \"\"\"Вернуть сумму цифр числа 'value'. Рекурсивная реализация.\n",
        "\n",
        "    Параметры:\n",
        "        - value (int): Натуральное число, для которого вычисляется сумма цифр.\n",
        "\n",
        "    Результат:\n",
        "        - int: Сумма цифр числа 'value'.\n",
        "    \"\"\"\n",
        "    if value == 0:\n",
        "        return 0\n",
        "    return (value % 10) + digits_sum(value // 10)\n",
        "\n",
        "\n",
        "def digits_count(value):\n",
        "    \"\"\"Вернуть количество цифр числа 'value'. Рекурсивная реализация.\n",
        "\n",
        "    Параметры:\n",
        "        - value (int): Натуральное число, для которого вычисляется количество цифр.\n",
        "\n",
        "    Результат:\n",
        "        - int: Количество цифр числа 'value'.\n",
        "    \"\"\"\n",
        "    if value == 0:\n",
        "        return 0\n",
        "    return 1 + digits_count(value // 10)\n",
        "\n",
        "\n",
        "print(digits_sum(12345))\n",
        "print(digits_count(12345))\n",
        "\n",
        "# --------------\n",
        "# Пример вывода:\n",
        "#\n",
        "# 15\n",
        "# 5"
      ]
    }
  ]
}