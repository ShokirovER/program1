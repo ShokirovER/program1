{
  "nbformat": 4,
  "nbformat_minor": 0,
  "metadata": {
    "colab": {
      "provenance": [],
      "authorship_tag": "ABX9TyMI5CiWAXQ28vpf3rJEufex",
      "include_colab_link": true
    },
    "kernelspec": {
      "name": "python3",
      "display_name": "Python 3"
    },
    "language_info": {
      "name": "python"
    }
  },
  "cells": [
    {
      "cell_type": "markdown",
      "metadata": {
        "id": "view-in-github",
        "colab_type": "text"
      },
      "source": [
        "<a href=\"https://colab.research.google.com/github/ShokirovER/program1/blob/main/task_02_32.ipynb\" target=\"_parent\"><img src=\"https://colab.research.google.com/assets/colab-badge.svg\" alt=\"Open In Colab\"/></a>"
      ]
    },
    {
      "cell_type": "code",
      "execution_count": 2,
      "metadata": {
        "colab": {
          "base_uri": "https://localhost:8080/"
        },
        "id": "1jZEMhUcr9XO",
        "outputId": "bf6b81b1-0770-4e5e-b1a8-8f0eb848ced1"
      },
      "outputs": [
        {
          "output_type": "stream",
          "name": "stdout",
          "text": [
            "Количество рядов = 3\n",
            "0 0 0\n",
            "1 1 1\n",
            "0 0 0 0 1\n",
            "Всего свободных мест: 7\n",
            "Введите ряд и место через пробел: 1 1\n",
            "Место свободно: True\n"
          ]
        }
      ],
      "source": [
        "# Задание task_02_32.\n",
        "#\n",
        "# Выполнил: Шокиров Е.Р.\n",
        "# Группа: ЦИБ - 241\n",
        "\n",
        "\n",
        "\n",
        "n = n = int(input(\"Количество рядов = \"))\n",
        "\n",
        "# 1. Заполнение мест\n",
        "seats = []\n",
        "for i in range(n):\n",
        "   row = list(map(int, input().split()))\n",
        "   seats.append(row)\n",
        "\n",
        "# 2. Всего свободных мест\n",
        "count = 0\n",
        "for row in seats:\n",
        "    count += row.count(0)\n",
        "print(f\"Всего свободных мест: {count}\")\n",
        "\n",
        "# 3. Ввод значений для поиска\n",
        "#    Учитывайте, что пользователь привык считать с 1, а не с 0,\n",
        "#    поэтому введенные сообщения необходимо скорректировать\n",
        "n_p, m_p = [int(item) for item in input(\"Введите ряд и место через пробел: \").split()]\n",
        "if n_p < 1 or n_p > len(seats) or m_p < 1 or m_p > len(seats[n_p-1]):\n",
        "    print(\"Такого места не существует\")\n",
        "else:\n",
        "\n",
        "# n_p, m, p не должны выходить за границы\n",
        "# Если выходит, необходимо указать, что \"Такого места не существует\"\n",
        "    is_free = seats[n_p-1][m_p-1] == 0\n",
        "    print(f\"Место свободно: {is_free}\")\n",
        "\n",
        "# --------------\n",
        "# Пример вывода:\n",
        "#\n",
        "# Количество рядов = 3\n",
        "# 0 0 0\n",
        "# 1 1 1\n",
        "# 0 0 0 0 1\n",
        "# Всего свободных мест: 7\n",
        "# Введите ряд и место через пробел: 1 1\n",
        "# Место свободно: True"
      ]
    }
  ]
}