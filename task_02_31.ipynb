{
  "nbformat": 4,
  "nbformat_minor": 0,
  "metadata": {
    "colab": {
      "provenance": [],
      "authorship_tag": "ABX9TyOuw465SxKtYi14+gYFQHNl",
      "include_colab_link": true
    },
    "kernelspec": {
      "name": "python3",
      "display_name": "Python 3"
    },
    "language_info": {
      "name": "python"
    }
  },
  "cells": [
    {
      "cell_type": "markdown",
      "metadata": {
        "id": "view-in-github",
        "colab_type": "text"
      },
      "source": [
        "<a href=\"https://colab.research.google.com/github/ShokirovER/program1/blob/main/task_02_31.ipynb\" target=\"_parent\"><img src=\"https://colab.research.google.com/assets/colab-badge.svg\" alt=\"Open In Colab\"/></a>"
      ]
    },
    {
      "cell_type": "code",
      "execution_count": 26,
      "metadata": {
        "colab": {
          "base_uri": "https://localhost:8080/"
        },
        "id": "8ubbbk5OBuxK",
        "outputId": "0859482d-c0d6-491f-ec15-e3999a21e655"
      },
      "outputs": [
        {
          "output_type": "stream",
          "name": "stdout",
          "text": [
            "Введите предложение: МАМА мыла РаМу\n",
            "Введите букву: р\n",
            "МАМА мыла\n"
          ]
        }
      ],
      "source": [
        "# Задание task_02_31.\n",
        "#\n",
        "# Выполнил: Шокиров Е.Р.\n",
        "# Группа: ЦИБ - 241\n",
        "\n",
        "\n",
        "\n",
        "s = input(\"Введите предложение: \")\n",
        "k = input(\"Введите букву: \").lower()\n",
        "words = s.split()\n",
        "filtered_words = [word for word in words if k not in word.lower()]\n",
        "result = \" \".join(filtered_words)\n",
        "print(result)\n",
        "# --------------\n",
        "# Пример вывода:\n",
        "#\n",
        "# Введите предложение = МАМА мыла РаМу\n",
        "# Введите букву = р\n",
        "# МАМА мыла"
      ]
    }
  ]
}