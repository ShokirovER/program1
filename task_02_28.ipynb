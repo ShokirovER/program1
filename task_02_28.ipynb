{
  "nbformat": 4,
  "nbformat_minor": 0,
  "metadata": {
    "colab": {
      "provenance": [],
      "authorship_tag": "ABX9TyMs883yI08xP4FVowepjOmh",
      "include_colab_link": true
    },
    "kernelspec": {
      "name": "python3",
      "display_name": "Python 3"
    },
    "language_info": {
      "name": "python"
    }
  },
  "cells": [
    {
      "cell_type": "markdown",
      "metadata": {
        "id": "view-in-github",
        "colab_type": "text"
      },
      "source": [
        "<a href=\"https://colab.research.google.com/github/ShokirovER/program1/blob/main/task_02_28.ipynb\" target=\"_parent\"><img src=\"https://colab.research.google.com/assets/colab-badge.svg\" alt=\"Open In Colab\"/></a>"
      ]
    },
    {
      "cell_type": "code",
      "execution_count": 17,
      "metadata": {
        "colab": {
          "base_uri": "https://localhost:8080/"
        },
        "id": "8ubbbk5OBuxK",
        "outputId": "83f7be82-cf81-4727-8d00-cfd4a705314d"
      },
      "outputs": [
        {
          "output_type": "stream",
          "name": "stdout",
          "text": [
            "k = 30\n",
            "x =  4, y = 10, z = 28\n",
            "x =  4, y = 20, z = 22\n",
            "x =  4, y = 22, z = 20\n",
            "x =  4, y = 28, z = 10\n",
            "x = 10, y =  4, z = 28\n",
            "x = 10, y = 20, z = 20\n",
            "x = 10, y = 28, z =  4\n",
            "x = 20, y =  4, z = 22\n",
            "x = 20, y = 10, z = 20\n",
            "x = 20, y = 20, z = 10\n",
            "x = 20, y = 22, z =  4\n",
            "x = 22, y =  4, z = 20\n",
            "x = 22, y = 20, z =  4\n",
            "x = 28, y =  4, z = 10\n",
            "x = 28, y = 10, z =  4\n"
          ]
        }
      ],
      "source": [
        "# Задание task_02_28.\n",
        "#\n",
        "# Выполнил: Шокиров Е.Р.\n",
        "# Группа: ЦИБ - 241\n",
        "\n",
        "\n",
        "\n",
        "k = int(input(\"k = \"))\n",
        "\n",
        "\n",
        "for x in range(1, 31):\n",
        "    for y in range(1, 31):\n",
        "        for z in range(1, 31):\n",
        "            if x**2 + y**2 + z**2 == k**2:\n",
        "                print(f\"x = {x:2}, y = {y:2}, z = {z:2}\")\n",
        "\n",
        "# --------------\n",
        "# Пример вывода:\n",
        "#\n",
        "# k = 30\n",
        "# x =  4, y = 10, z = 28\n",
        "# x =  4, y = 20, z = 22\n",
        "# x =  4, y = 22, z = 20\n",
        "# x =  4, y = 28, z = 10\n",
        "# x = 10, y =  4, z = 28\n",
        "# x = 10, y = 20, z = 20\n",
        "# x = 10, y = 28, z =  4\n",
        "# x = 20, y =  4, z = 22\n",
        "# x = 20, y = 10, z = 20\n",
        "# x = 20, y = 20, z = 10\n",
        "# x = 20, y = 22, z =  4\n",
        "# x = 22, y =  4, z = 20\n",
        "# x = 22, y = 20, z =  4\n",
        "# x = 28, y =  4, z = 10\n",
        "# x = 28, y = 10, z =  4"
      ]
    }
  ]
}