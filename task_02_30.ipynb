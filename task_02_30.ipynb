{
  "nbformat": 4,
  "nbformat_minor": 0,
  "metadata": {
    "colab": {
      "provenance": [],
      "authorship_tag": "ABX9TyOy+thx5lJmNw5sETflkTUz",
      "include_colab_link": true
    },
    "kernelspec": {
      "name": "python3",
      "display_name": "Python 3"
    },
    "language_info": {
      "name": "python"
    }
  },
  "cells": [
    {
      "cell_type": "markdown",
      "metadata": {
        "id": "view-in-github",
        "colab_type": "text"
      },
      "source": [
        "<a href=\"https://colab.research.google.com/github/ShokirovER/program1/blob/main/task_02_30.ipynb\" target=\"_parent\"><img src=\"https://colab.research.google.com/assets/colab-badge.svg\" alt=\"Open In Colab\"/></a>"
      ]
    },
    {
      "cell_type": "code",
      "execution_count": 24,
      "metadata": {
        "colab": {
          "base_uri": "https://localhost:8080/"
        },
        "id": "8ubbbk5OBuxK",
        "outputId": "dffd86e6-fa28-414a-eed0-dadc07264bfc"
      },
      "outputs": [
        {
          "output_type": "stream",
          "name": "stdout",
          "text": [
            "-1 1 100 0\n",
            "Все положительные: False False\n",
            "Хотя бы 1 нулевой элемент: True True\n",
            "Все четные: False False\n",
            "Хотя бы 1 нечетный элемент: True True\n"
          ]
        }
      ],
      "source": [
        "# Задание task_02_30.\n",
        "#\n",
        "# Выполнил: Шокиров Е.Р.\n",
        "# Группа: ЦИБ - 241\n",
        "\n",
        "\n",
        "# Все разделенные пробелом элементы будут преобразованы в список целых чисел\n",
        "nums = [int(item) for item in input().split()]\n",
        "\n",
        "# 1. Все положительные\n",
        "for item in nums:\n",
        "    if item <= 0:\n",
        "        all_pos_1 = False\n",
        "        break\n",
        "else:\n",
        "    all_pos_1 = True\n",
        "\n",
        "all_pos_2 = all([item > 0 for item in nums])\n",
        "\n",
        "# 2. Хотя бы 1 нулевой элемент\n",
        "for item in nums:\n",
        "    if item == 0:\n",
        "        any_zero_1 = True\n",
        "        break\n",
        "else:\n",
        "    any_zero_1 = False\n",
        "\n",
        "any_zero_2 = any([item == 0 for item in nums])\n",
        "\n",
        "# 3. Все четные\n",
        "all_even_1 = True\n",
        "for item in nums:\n",
        "    if item % 2 != 0:\n",
        "        all_even_1 = False\n",
        "        break\n",
        "\n",
        "all_even_2 = all(item % 2 == 0 for item in nums)\n",
        "\n",
        "# 4. Хотя бы 1 нечетный элемент\n",
        "any_odd_1 = False\n",
        "for item in nums:\n",
        "    if item % 2 != 0:\n",
        "        any_odd_1 = True\n",
        "        break\n",
        "\n",
        "any_odd_2 = any(item % 2 != 0 for item in nums)\n",
        "\n",
        "print(\"Все положительные:\", all_pos_1, all_pos_2)\n",
        "print(\"Хотя бы 1 нулевой элемент:\", any_zero_1, any_zero_2)\n",
        "print(\"Все четные:\", all_even_1, all_even_2)\n",
        "print(\"Хотя бы 1 нечетный элемент:\", any_odd_1, any_odd_2)\n",
        "\n",
        "# --------------\n",
        "# Пример вывода:\n",
        "#\n",
        "# -1 1 100 0\n",
        "# Все положительные: False False\n",
        "# Хотя бы 1 нулевой элемент: True True\n",
        "# Все четные: False False\n",
        "# Хотя бы 1 нечетный элемент: True True"
      ]
    }
  ]
}