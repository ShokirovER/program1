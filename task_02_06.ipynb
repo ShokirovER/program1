{
  "nbformat": 4,
  "nbformat_minor": 0,
  "metadata": {
    "colab": {
      "provenance": [],
      "authorship_tag": "ABX9TyMoOOsAqlCXtfytByow26X+",
      "include_colab_link": true
    },
    "kernelspec": {
      "name": "python3",
      "display_name": "Python 3"
    },
    "language_info": {
      "name": "python"
    }
  },
  "cells": [
    {
      "cell_type": "markdown",
      "metadata": {
        "id": "view-in-github",
        "colab_type": "text"
      },
      "source": [
        "<a href=\"https://colab.research.google.com/github/ShokirovER/program1/blob/main/task_02_06.ipynb\" target=\"_parent\"><img src=\"https://colab.research.google.com/assets/colab-badge.svg\" alt=\"Open In Colab\"/></a>"
      ]
    },
    {
      "cell_type": "code",
      "execution_count": 11,
      "metadata": {
        "colab": {
          "base_uri": "https://localhost:8080/"
        },
        "id": "uUIs85Du8uZU",
        "outputId": "b2cd9fb6-a717-4caa-94cd-f730a603af9f"
      },
      "outputs": [
        {
          "output_type": "stream",
          "name": "stdout",
          "text": [
            "a = 1\n",
            "b = 3\n",
            "c = -4\n",
            "x1 = -4.0, x2 = 1.0\n"
          ]
        }
      ],
      "source": [
        "# Задание task_02_06.\n",
        "#\n",
        "# Выполнил: Шокиров Е.Р.\n",
        "# Группа: ЦИБ - 241\n",
        "\n",
        "\n",
        "\n",
        "a = float(input('a = '))\n",
        "b = float(input('b = '))\n",
        "c = float(input('c = '))\n",
        "# Расчет дискриминанта\n",
        "D = b**2 - 4*a*c\n",
        "\n",
        "# Вывод решения в зависимости от значения дискриминанта\n",
        "# При выводе значений оставьте 1 знак после запятой\n",
        "if D < 0:\n",
        "  print('Решений нет')\n",
        "elif D == 0:\n",
        "  x = -b/2*a\n",
        "  print('x =', x)\n",
        "elif D >  0:\n",
        "  x1 = (-b-(D**0.5))/2*a\n",
        "  x2 = (-b+(D**0.5))/2*a\n",
        "  print('x1 = {}, x2 = {}'.format(x1, x2))\n",
        "# --------------\n",
        "# Пример вывода:\n",
        "#\n",
        "# a = 1\n",
        "# b = 2\n",
        "# c = 3\n",
        "# Решений нет\n",
        "#\n",
        "# a = 1\n",
        "# b = 2\n",
        "# c = 1\n",
        "# x = -1.0\n",
        "#\n",
        "# a = 1\n",
        "# b = 3\n",
        "# c = -4\n",
        "# x1 = -4.0, x2 = 1.0"
      ]
    }
  ]
}