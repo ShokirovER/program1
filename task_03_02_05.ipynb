{
  "nbformat": 4,
  "nbformat_minor": 0,
  "metadata": {
    "colab": {
      "provenance": [],
      "authorship_tag": "ABX9TyOauRoA7NRkTOI60X7AwyIL",
      "include_colab_link": true
    },
    "kernelspec": {
      "name": "python3",
      "display_name": "Python 3"
    },
    "language_info": {
      "name": "python"
    }
  },
  "cells": [
    {
      "cell_type": "markdown",
      "metadata": {
        "id": "view-in-github",
        "colab_type": "text"
      },
      "source": [
        "<a href=\"https://colab.research.google.com/github/ShokirovER/program1/blob/main/task_03_02_05.ipynb\" target=\"_parent\"><img src=\"https://colab.research.google.com/assets/colab-badge.svg\" alt=\"Open In Colab\"/></a>"
      ]
    },
    {
      "cell_type": "code",
      "execution_count": 1,
      "metadata": {
        "id": "t33A3YYHJ-kx"
      },
      "outputs": [],
      "source": [
        "# Задание task_03_02_05.\n",
        "# Выполнил: Шокиров Е.Р.\n",
        "# Группа: ЦИБ-241\n",
        "\n",
        "\n",
        "\n",
        "def foo(nums):\n",
        "    \"\"\"Алгоритм: проверяет, содержит ли список nums хотя бы одно чётное число\n",
        "\n",
        "    Параметры:\n",
        "        - nums (list): список.\n",
        "\n",
        "    Сложность: O(n)\n",
        "    \"\"\"\n",
        "    for x in nums:\n",
        "        if x % 2 == 0:\n",
        "            return True\n",
        "    else:\n",
        "        return False"
      ]
    }
  ]
}