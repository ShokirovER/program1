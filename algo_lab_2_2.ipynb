{
  "nbformat": 4,
  "nbformat_minor": 0,
  "metadata": {
    "colab": {
      "provenance": [],
      "authorship_tag": "ABX9TyM8DvJLJlquLYA3lp8h1Xos",
      "include_colab_link": true
    },
    "kernelspec": {
      "name": "python3",
      "display_name": "Python 3"
    },
    "language_info": {
      "name": "python"
    }
  },
  "cells": [
    {
      "cell_type": "markdown",
      "metadata": {
        "id": "view-in-github",
        "colab_type": "text"
      },
      "source": [
        "<a href=\"https://colab.research.google.com/github/ShokirovER/program1/blob/main/algo_lab_2_2.ipynb\" target=\"_parent\"><img src=\"https://colab.research.google.com/assets/colab-badge.svg\" alt=\"Open In Colab\"/></a>"
      ]
    },
    {
      "cell_type": "code",
      "execution_count": 3,
      "metadata": {
        "colab": {
          "base_uri": "https://localhost:8080/"
        },
        "id": "sw9HstWXBkuo",
        "outputId": "d40f3b73-875a-48b2-8b9a-96b646d03030"
      },
      "outputs": [
        {
          "output_type": "stream",
          "name": "stdout",
          "text": [
            "Исходное дерево (inorder обход):\n",
            "18 20 25 29 32 36 40 \n",
            "\n",
            "Элемент 36 найден: 36\n",
            "Дерево после удаления 29 (inorder обход):\n",
            "18 20 25 32 36 40 \n",
            "\n",
            "Исходный массив: [29, 20, 36, 18, 25, 32, 40]\n",
            "Отсортированный массив: [18, 20, 25, 29, 32, 36, 40]\n"
          ]
        }
      ],
      "source": [
        "#Выполнил: Шоикров Е.Р.\n",
        "#Группа: ЦИБ - 241\n",
        "#Вариант 22\n",
        "class Node:\n",
        "    def __init__(self, key):\n",
        "        self.left = None\n",
        "        self.right = None\n",
        "        self.val = key\n",
        "\n",
        "def insert(root, key):\n",
        "    if root is None:\n",
        "        return Node(key)\n",
        "    else:\n",
        "        if key < root.val:\n",
        "            root.left = insert(root.left, key)\n",
        "        else:\n",
        "            root.right = insert(root.right, key)\n",
        "    return root\n",
        "\n",
        "def search(root, key):\n",
        "    if root is None or root.val == key:\n",
        "        return root\n",
        "    if key < root.val:\n",
        "        return search(root.left, key)\n",
        "    return search(root.right, key)\n",
        "\n",
        "def minValueNode(node):\n",
        "    current = node\n",
        "    while current.left is not None:\n",
        "        current = current.left\n",
        "    return current\n",
        "\n",
        "def deleteNode(root, key):\n",
        "    if root is None:\n",
        "        return root\n",
        "    if key < root.val:\n",
        "        root.left = deleteNode(root.left, key)\n",
        "    elif key > root.val:\n",
        "        root.right = deleteNode(root.right, key)\n",
        "    else:\n",
        "        if root.left is None:\n",
        "            return root.right\n",
        "        elif root.right is None:\n",
        "            return root.left\n",
        "        temp = minValueNode(root.right)\n",
        "        root.val = temp.val\n",
        "        root.right = deleteNode(root.right, temp.val)\n",
        "    return root\n",
        "\n",
        "def inorder(root):\n",
        "    if root:\n",
        "        inorder(root.left)\n",
        "        print(root.val, end=\" \")\n",
        "        inorder(root.right)\n",
        "\n",
        "def heapify(arr, n, i):\n",
        "    largest = i\n",
        "    l = 2 * i + 1\n",
        "    r = 2 * i + 2\n",
        "    if l < n and arr[l] > arr[largest]:\n",
        "        largest = l\n",
        "    if r < n and arr[r] > arr[largest]:\n",
        "        largest = r\n",
        "    if largest != i:\n",
        "        arr[i], arr[largest] = arr[largest], arr[i]\n",
        "        heapify(arr, n, largest)\n",
        "\n",
        "def heapSort(arr):\n",
        "    n = len(arr)\n",
        "    for i in range(n // 2 - 1, -1, -1):\n",
        "        heapify(arr, n, i)\n",
        "    for i in range(n - 1, 0, -1):\n",
        "        arr[i], arr[0] = arr[0], arr[i]\n",
        "        heapify(arr, i, 0)\n",
        "\n",
        "\n",
        "elements = [29, 20, 36, 18, 25, 32, 40]\n",
        "root = None\n",
        "for el in elements:\n",
        "    root = insert(root, el)\n",
        "\n",
        "print(\"Исходное дерево (inorder обход):\")\n",
        "inorder(root)\n",
        "\n",
        "\n",
        "found = search(root, 36)\n",
        "print(\"\\n\\nЭлемент 36 найден:\", found.val if found else \"Не найден\")\n",
        "\n",
        "\n",
        "root = deleteNode(root, 29)\n",
        "print(\"Дерево после удаления 29 (inorder обход):\")\n",
        "inorder(root)\n",
        "\n",
        "\n",
        "arr = [29, 20, 36, 18, 25, 32, 40]\n",
        "print(\"\\n\\nИсходный массив:\", arr)\n",
        "heapSort(arr)\n",
        "print(\"Отсортированный массив:\", arr)"
      ]
    }
  ]
}