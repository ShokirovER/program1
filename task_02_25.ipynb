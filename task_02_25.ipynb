{
  "nbformat": 4,
  "nbformat_minor": 0,
  "metadata": {
    "colab": {
      "provenance": [],
      "authorship_tag": "ABX9TyPtjP1CTCWU+21WpMAFgVnV",
      "include_colab_link": true
    },
    "kernelspec": {
      "name": "python3",
      "display_name": "Python 3"
    },
    "language_info": {
      "name": "python"
    }
  },
  "cells": [
    {
      "cell_type": "markdown",
      "metadata": {
        "id": "view-in-github",
        "colab_type": "text"
      },
      "source": [
        "<a href=\"https://colab.research.google.com/github/ShokirovER/program1/blob/main/task_02_25.ipynb\" target=\"_parent\"><img src=\"https://colab.research.google.com/assets/colab-badge.svg\" alt=\"Open In Colab\"/></a>"
      ]
    },
    {
      "cell_type": "code",
      "execution_count": 19,
      "metadata": {
        "colab": {
          "base_uri": "https://localhost:8080/"
        },
        "id": "L2xcdYlQsFO3",
        "outputId": "bd6fae24-78c4-4642-84f9-8a74e9357137"
      },
      "outputs": [
        {
          "output_type": "stream",
          "name": "stdout",
          "text": [
            "n = 5\n",
            "1 * 1 =  1\t1 * 2 =  2\t1 * 3 =  3\t1 * 4 =  4\t1 * 5 =  5\t\n",
            "2 * 1 =  2\t2 * 2 =  4\t2 * 3 =  6\t2 * 4 =  8\t2 * 5 =  10\t\n",
            "3 * 1 =  3\t3 * 2 =  6\t3 * 3 =  9\t3 * 4 =  12\t3 * 5 =  15\t\n",
            "4 * 1 =  4\t4 * 2 =  8\t4 * 3 =  12\t4 * 4 =  16\t4 * 5 =  20\t\n",
            "5 * 1 =  5\t5 * 2 =  10\t5 * 3 =  15\t5 * 4 =  20\t5 * 5 =  25\t\n"
          ]
        }
      ],
      "source": [
        "# Задание task_02_25.\n",
        "#\n",
        "# Выполнил: Шокиров Е.Р.\n",
        "# Группа: ЦИБ - 241\n",
        "\n",
        "\n",
        "\n",
        "n = int(input('n = '))\n",
        "num_1 = 1\n",
        "num_2 = 1\n",
        "\n",
        "for i in range(1, n+1):\n",
        "  for j in range(1, n+1):\n",
        "    print('{} * {} = '.format(i, j), i*j, end ='\\t')\n",
        "  print()\n",
        "\n",
        "\n",
        "\n",
        "\n",
        "\n",
        "\n",
        "\n",
        "# --------------\n",
        "# Пример вывода:\n",
        "#\n",
        "# n = 5\n",
        "# 1 * 1 =  1  1 * 2 =  2  1 * 3 =  3  1 * 4 =  4  1 * 5 =  5\n",
        "# 2 * 1 =  2  2 * 2 =  4  2 * 3 =  6  2 * 4 =  8  2 * 5 = 10\n",
        "# 3 * 1 =  3  3 * 2 =  6  3 * 3 =  9  3 * 4 = 12  3 * 5 = 15\n",
        "# 4 * 1 =  4  4 * 2 =  8  4 * 3 = 12  4 * 4 = 16  4 * 5 = 20\n",
        "# 5 * 1 =  5  5 * 2 = 10  5 * 3 = 15  5 * 4 = 20  5 * 5 = 25"
      ]
    }
  ]
}