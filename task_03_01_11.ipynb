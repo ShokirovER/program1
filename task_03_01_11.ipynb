{
  "nbformat": 4,
  "nbformat_minor": 0,
  "metadata": {
    "colab": {
      "provenance": [],
      "authorship_tag": "ABX9TyMnHbT58xnvkujQH3xCOy/k",
      "include_colab_link": true
    },
    "kernelspec": {
      "name": "python3",
      "display_name": "Python 3"
    },
    "language_info": {
      "name": "python"
    }
  },
  "cells": [
    {
      "cell_type": "markdown",
      "metadata": {
        "id": "view-in-github",
        "colab_type": "text"
      },
      "source": [
        "<a href=\"https://colab.research.google.com/github/ShokirovER/program1/blob/main/task_03_01_11.ipynb\" target=\"_parent\"><img src=\"https://colab.research.google.com/assets/colab-badge.svg\" alt=\"Open In Colab\"/></a>"
      ]
    },
    {
      "cell_type": "code",
      "execution_count": null,
      "metadata": {
        "id": "llK_wSGKxkCF"
      },
      "outputs": [],
      "source": [
        "# Задание task_03_01_11.\n",
        "#Р\n",
        "# Выполнил: Шокиров Е.Р.\n",
        "# Группа: ЦИБ-241\n",
        "\n",
        "def ceasar(text, shift):\n",
        "    \"\"\"Вернуть измененную строку 'text' со сдвигом 'shift'.\n",
        "\n",
        "    Параметры:\n",
        "        - text (str): строка;\n",
        "        - shift (int): сдвиг.\n",
        "\n",
        "    Результат:\n",
        "        str: измененная строка.\"\"\"\n",
        "    lower_letters = [chr(i) for i in range(ord('а'), ord('я') + 1)]\n",
        "    upper_letters = [chr(i) for i in range(ord('А'), ord('Я') + 1)]\n",
        "    result = []\n",
        "\n",
        "    for char in text:\n",
        "        if char in lower_letters:\n",
        "            index = (lower_letters.index(char) + shift) % len(lower_letters)\n",
        "            result.append(lower_letters[index])\n",
        "        elif char in upper_letters:\n",
        "            index = (upper_letters.index(char) + shift) % len(upper_letters)\n",
        "            result.append(upper_letters[index])\n",
        "        else:\n",
        "            result.append(char)\n",
        "    return ''.join(result)\n",
        "\n",
        "text = input(\"Введите предложение: \")\n",
        "shift = int(input(\"Введите сдвиг: \"))\n",
        "\n",
        "encoded = ceasar(text, shift)\n",
        "decoded = ceasar(encoded, -shift)\n",
        "\n",
        "print(\"Зашифрованная строка:\", encoded)\n",
        "print(\"Расшифрованная строка:\", decoded)\n",
        "\n",
        "# --------------\n",
        "# Пример вывода:\n",
        "#\n",
        "# Введите предложение: ПрограММиРОВание С++\n",
        "# Введите сдвиг: 4\n",
        "# Зашифрованная строка: УфтзфдРРмФТЖдсмй Х++\n",
        "# Расшифрованная строка: ПрограММиРОВание С++"
      ]
    }
  ]
}