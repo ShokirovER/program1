{
  "nbformat": 4,
  "nbformat_minor": 0,
  "metadata": {
    "colab": {
      "provenance": [],
      "authorship_tag": "ABX9TyMZSwBXFoZtxqgZk5vC1OPn",
      "include_colab_link": true
    },
    "kernelspec": {
      "name": "python3",
      "display_name": "Python 3"
    },
    "language_info": {
      "name": "python"
    }
  },
  "cells": [
    {
      "cell_type": "markdown",
      "metadata": {
        "id": "view-in-github",
        "colab_type": "text"
      },
      "source": [
        "<a href=\"https://colab.research.google.com/github/ShokirovER/program1/blob/main/task_02_18.ipynb\" target=\"_parent\"><img src=\"https://colab.research.google.com/assets/colab-badge.svg\" alt=\"Open In Colab\"/></a>"
      ]
    },
    {
      "cell_type": "code",
      "execution_count": 25,
      "metadata": {
        "colab": {
          "base_uri": "https://localhost:8080/"
        },
        "id": "NlwTZmvwmLAO",
        "outputId": "9dd26e95-189f-4f05-ef74-7318e64cae93"
      },
      "outputs": [
        {
          "output_type": "stream",
          "name": "stdout",
          "text": [
            "Введите предложение: Программирование\n",
            "Кол-во букв в предложении: гласных - 7, согласных - 9\n"
          ]
        }
      ],
      "source": [
        "# Задание task_02_18.\n",
        "#\n",
        "# Выполнил: Шокиров Е.Р.\n",
        "# Группа: ЦИБ - 241\n",
        "\n",
        "gl = \"аеёиоуыэюяАЕЁИОУЫЭЮЯ\"\n",
        "sogl = \"бвгджзйклмнпрстфхцчшщБВГДЖЗЙКЛМНПРСТФХЦЧШЩ\"\n",
        "\n",
        "sentence = str(input('Введите предложение: '))\n",
        "\n",
        "\n",
        "count_gl = 0  # Кол-во гласных\n",
        "count_sogl = 0  # Кол-во согласных\n",
        "\n",
        "for i in sentence:\n",
        "  if i == ' ':\n",
        "    continue\n",
        "  if i in gl:\n",
        "    count_gl+=1\n",
        "  elif i in sogl:\n",
        "    count_sogl+=1\n",
        "\n",
        "print('Кол-во букв в предложении: гласных - {}, согласных - {}'.format(count_gl, count_sogl))\n",
        "\n",
        "# Удалите комментарий и допишите код\n",
        "\n",
        "# --------------\n",
        "# Пример вывода:\n",
        "#\n",
        "# Введите предложение: Программирование\n",
        "# Кол-во букв в предложении: гласных - 7, согласных - 9"
      ]
    }
  ]
}