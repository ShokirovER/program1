{
  "nbformat": 4,
  "nbformat_minor": 0,
  "metadata": {
    "colab": {
      "provenance": [],
      "authorship_tag": "ABX9TyOKkCOvuzX0qpyPKmijOhbG",
      "include_colab_link": true
    },
    "kernelspec": {
      "name": "python3",
      "display_name": "Python 3"
    },
    "language_info": {
      "name": "python"
    }
  },
  "cells": [
    {
      "cell_type": "markdown",
      "metadata": {
        "id": "view-in-github",
        "colab_type": "text"
      },
      "source": [
        "<a href=\"https://colab.research.google.com/github/ShokirovER/program1/blob/main/task_03_01_06.ipynb\" target=\"_parent\"><img src=\"https://colab.research.google.com/assets/colab-badge.svg\" alt=\"Open In Colab\"/></a>"
      ]
    },
    {
      "cell_type": "code",
      "execution_count": 1,
      "metadata": {
        "colab": {
          "base_uri": "https://localhost:8080/"
        },
        "id": "XxaWOZMTripE",
        "outputId": "55320a77-880b-43f1-f8ed-38466e4897c3"
      },
      "outputs": [
        {
          "output_type": "stream",
          "name": "stdout",
          "text": [
            "Введите числа через пробел: 8 10 14\n",
            "НОД = 2\n",
            "НОК = 280\n"
          ]
        }
      ],
      "source": [
        "# Задание task_03_01_06.\n",
        "#\n",
        "# Выполнил: Шокиров Е.Р.\n",
        "# Группа: ЦИБ - 241\n",
        "\n",
        "\n",
        "\n",
        "def gcd(first, second):\n",
        "    \"\"\"Вернуть НОД целых чисел 'first' и 'second'.\"\"\"\n",
        "    while second:\n",
        "        first, second = second, first % second\n",
        "    return abs(first)\n",
        "\n",
        "\n",
        "def lcm(first, second):\n",
        "    \"\"\"Вернуть НОК целых чисел 'first' и 'second'.\"\"\"\n",
        "    return abs(first * second) // gcd(first, second) if first and second else 0\n",
        "\n",
        "\n",
        "def gcd_nums(nums):\n",
        "    \"\"\"Вернуть НОД чисел из списка 'nums'.\n",
        "\n",
        "    Параметры:\n",
        "        !!!.\n",
        "\n",
        "    Результат:\n",
        "        !!!.\n",
        "    \"\"\"\n",
        "    if not nums:\n",
        "        return 0\n",
        "    result = nums[0]\n",
        "    for num in nums[1:]:\n",
        "        result = gcd(result, num)\n",
        "    return result\n",
        "\n",
        "\n",
        "def lcm_nums(nums):\n",
        "    \"\"\"Вернуть НОК чисел из списка 'nums'.\n",
        "\n",
        "    Параметры:\n",
        "        !!!.\n",
        "\n",
        "    Результат:\n",
        "        !!!.\n",
        "    \"\"\"\n",
        "    if not nums:\n",
        "        return 0\n",
        "    result = nums[0]\n",
        "    for num in nums[1:]:\n",
        "        result = lcm(result, num)\n",
        "    return result\n",
        "\n",
        "\n",
        "nums = list(map(int, input(\"Введите числа через пробел: \").split()))\n",
        "\n",
        "print(f\"НОД = {gcd_nums(nums)}\")\n",
        "print(f\"НОК = {lcm_nums(nums)}\")\n",
        "\n",
        "\n",
        "# Удалите комментарий и допишите код\n",
        "\n",
        "# --------------\n",
        "# Пример вывода:\n",
        "#\n",
        "# Введите числа через пробел: 8 10 14\n",
        "# НОД = 2\n",
        "# НОК = 280\n",
        "#\n",
        "# Введите числа через пробел: 6 8 24 16\n",
        "# НОД = 2\n",
        "# НОК = 48"
      ]
    }
  ]
}