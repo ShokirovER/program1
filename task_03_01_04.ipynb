{
  "nbformat": 4,
  "nbformat_minor": 0,
  "metadata": {
    "colab": {
      "provenance": [],
      "authorship_tag": "ABX9TyNEToBpu7nB1HfY22VZbM1q",
      "include_colab_link": true
    },
    "kernelspec": {
      "name": "python3",
      "display_name": "Python 3"
    },
    "language_info": {
      "name": "python"
    }
  },
  "cells": [
    {
      "cell_type": "markdown",
      "metadata": {
        "id": "view-in-github",
        "colab_type": "text"
      },
      "source": [
        "<a href=\"https://colab.research.google.com/github/ShokirovER/program1/blob/main/task_03_01_04.ipynb\" target=\"_parent\"><img src=\"https://colab.research.google.com/assets/colab-badge.svg\" alt=\"Open In Colab\"/></a>"
      ]
    },
    {
      "cell_type": "code",
      "execution_count": 4,
      "metadata": {
        "colab": {
          "base_uri": "https://localhost:8080/"
        },
        "id": "q9454hKtG_nz",
        "outputId": "f350c452-095e-4328-d950-3f3a66523ed0"
      },
      "outputs": [
        {
          "output_type": "stream",
          "name": "stdout",
          "text": [
            "День, месяц, год через пробел: 1 3 2000\n",
            "Предыдущий день: 29/02/2000\n",
            "Следующий день: 02/03/2000\n"
          ]
        }
      ],
      "source": [
        "# Задание task_03_01_04.\n",
        "#\n",
        "# Выполнил: Шокиров Е.Р.\n",
        "# Группа: ЦИБ - 241\n",
        "\n",
        "\n",
        "\n",
        "def is_leap(year):\n",
        "    \"\"\"Является ли 'year' високосным годом?\n",
        "\n",
        "    Параметры:\n",
        "        .\n",
        "\n",
        "    Результат:\n",
        "        bool: True - да, False - нет.\n",
        "    \"\"\"\n",
        "    if (year % 4 == 0 and year % 100 != 0) or (year % 400 == 0):\n",
        "        return True\n",
        "    return False\n",
        "\n",
        "\n",
        "def days(month, year):\n",
        "    \"\"\"Вернуть количество дней в месяце 'month' года 'year'.\n",
        "\n",
        "    Параметры:\n",
        "        !!!.\n",
        "\n",
        "    Результат:\n",
        "        !!!.\n",
        "    \"\"\"\n",
        "    if month == 2:\n",
        "        return 29 if is_leap(year) else 28\n",
        "    elif month in [4, 6, 9, 11]:\n",
        "        return 30\n",
        "    else:\n",
        "        return 31\n",
        "\n",
        "\n",
        "def previous_date(day, month, year):\n",
        "    \"\"\"Вернуть день, месяц, год предыдущего дня.\n",
        "\n",
        "    Параметры:\n",
        "        !!!.\n",
        "\n",
        "    Результат:\n",
        "        !!!.\n",
        "    \"\"\"\n",
        "    if day == 1:\n",
        "        if month == 1:\n",
        "            return 31, 12, year - 1\n",
        "        else:\n",
        "            prev_month = month - 1\n",
        "            prev_day = days(prev_month, year)\n",
        "            return prev_day, prev_month, year\n",
        "    else:\n",
        "        return day - 1, month, year\n",
        "\n",
        "\n",
        "def next_date(day, month, year):\n",
        "    \"\"\"Вернуть день, месяц, год следующего дня.\n",
        "\n",
        "    Параметры:\n",
        "        !!!.\n",
        "\n",
        "    Результат:\n",
        "        !!!.\n",
        "    \"\"\"\n",
        "    days_in_month = days(month, year)\n",
        "    if day == days_in_month:\n",
        "        if month == 12:\n",
        "            return 1, 1, year + 1\n",
        "        else:\n",
        "            return 1, month + 1, year\n",
        "    else:\n",
        "        return day + 1, month, year\n",
        "\n",
        "day, month, year =  map(int, input(\"День, месяц, год через пробел: \").split())\n",
        "prev_day, prev_month, prev_year = previous_date(day, month, year)\n",
        "next_day, next_month, next_year = next_date(day, month, year)\n",
        "\n",
        "print(f\"Предыдущий день: {prev_day:02d}/{prev_month:02d}/{prev_year}\")\n",
        "print(f\"Следующий день: {next_day:02d}/{next_month:02d}/{next_year}\")\n",
        "\n",
        "# --------------\n",
        "# Пример вывода:\n",
        "#\n",
        "# День, месяц, год через пробел: 1 3 2000\n",
        "# Предыдущий день: 29/02/2000\n",
        "# Следующий день: 02/03/2000"
      ]
    }
  ]
}