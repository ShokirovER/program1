{
  "nbformat": 4,
  "nbformat_minor": 0,
  "metadata": {
    "colab": {
      "provenance": [],
      "authorship_tag": "ABX9TyOZaZ7RgEkJ+UZyDWxL1oSh",
      "include_colab_link": true
    },
    "kernelspec": {
      "name": "python3",
      "display_name": "Python 3"
    },
    "language_info": {
      "name": "python"
    }
  },
  "cells": [
    {
      "cell_type": "markdown",
      "metadata": {
        "id": "view-in-github",
        "colab_type": "text"
      },
      "source": [
        "<a href=\"https://colab.research.google.com/github/ShokirovER/program1/blob/main/task_03_03_09.ipynb\" target=\"_parent\"><img src=\"https://colab.research.google.com/assets/colab-badge.svg\" alt=\"Open In Colab\"/></a>"
      ]
    },
    {
      "cell_type": "code",
      "execution_count": 15,
      "metadata": {
        "colab": {
          "base_uri": "https://localhost:8080/"
        },
        "id": "ILRKgidir1rx",
        "outputId": "627f2e03-91ec-45c4-e5ae-a2e56403fbc5"
      },
      "outputs": [
        {
          "output_type": "stream",
          "name": "stdout",
          "text": [
            "Введите границу интервала [-k; k]: 3\n",
            "Введите шаг табуляции: 2\n",
            "         x       f(x)\n",
            "     -3.00     -12.00\n",
            "     -1.00      -2.00\n",
            "      1.00      -2.67\n",
            "      3.00      -1.20\n",
            "Введите границу интервала [-k; k]: 4\n",
            "Введите шаг табуляции: 1\n",
            "         x       f(x)\n",
            "     -4.00     -11.00\n",
            "     -3.00     -12.00\n",
            "     -2.00          -\n",
            "     -1.00      -2.00\n",
            "      0.00      -3.00\n",
            "      1.00      -2.67\n",
            "      2.00      -2.00\n",
            "      3.00      -1.20\n",
            "      4.00      -0.33\n"
          ]
        }
      ],
      "source": [
        "# Задание task_03_03_09.\n",
        "#\n",
        "# Выполнил: Шокиров Е.Р.\n",
        "# Группа: ЦИБ-241\n",
        "\n",
        "\n",
        "\n",
        "\"\"\"\n",
        "Ошибки (номера строк через пробел, данная строка - №2): !!!\n",
        "\"\"\"\n",
        "\n",
        "\n",
        "def f(x):\n",
        "    \"\"\"Вернуть значение функции.\n",
        "\n",
        "    Функция не обрабатывает исключения.\n",
        "    \"\"\"\n",
        "    return x**2 / (x + 2) - 3\n",
        "\n",
        "\n",
        "k = int(input(\"Введите границу интервала [-k; k]: \"))\n",
        "h = float(input(\"Введите шаг табуляции: \"))\n",
        "\n",
        "x = -k\n",
        "print(\"{:>10} {:>10}\".format(\"x\", \"f(x)\"))\n",
        "while x <= k:\n",
        "    # Если во время вычисления функции возникнет ошибка,\n",
        "    # при выводе необходимо указать прочерк \"-\"\n",
        "    # Данный случай должен обрабатывать второй вложенный блок try\n",
        "    print(\"{:10.2f} {:10.2f}\".format(x, f(x)))\n",
        "\n",
        "    x += h\n",
        "\n",
        "\n",
        "# --------------\n",
        "# Пример вывода:\n",
        "#\n",
        "# Введите границу интервала [-k; k]: 5\n",
        "# Введите шаг табуляции: 0.5\n",
        "#          x       f(x)\n",
        "#      -5.00     -11.33\n",
        "#      -4.50     -11.10\n",
        "#      -4.00     -11.00\n",
        "#      -3.50     -11.17\n",
        "#      -3.00     -12.00\n",
        "#      -2.50     -15.50\n",
        "#      -2.00          -\n",
        "#      -1.50       1.50\n",
        "#      -1.00      -2.00\n",
        "#      -0.50      -2.83\n",
        "#       0.00      -3.00\n",
        "#       0.50      -2.90\n",
        "#       1.00      -2.67\n",
        "#       1.50      -2.36\n",
        "#       2.00      -2.00\n",
        "#       2.50      -1.61\n",
        "#       3.00      -1.20\n",
        "#       3.50      -0.77\n",
        "#       4.00      -0.33\n",
        "#       4.50       0.12\n",
        "#       5.00       0.57\n",
        "\n",
        "\n",
        "\"\"\"\n",
        "Ошибки (номера строк через пробел, данная строка - №2): 12 13 18\n",
        "\"\"\"\n",
        "\n",
        "\n",
        "\n",
        "def f(x):\n",
        "    \"\"\"Вернуть значение функции.\"\"\"\n",
        "    try:\n",
        "        return x**2 / (x + 2) - 3\n",
        "    except ZeroDivisionError:\n",
        "        raise\n",
        "    except OverflowError:\n",
        "        return float('inf')\n",
        "\n",
        "try:\n",
        "    k = int(input(\"Введите границу интервала [-k; k]: \"))\n",
        "    h = float(input(\"Введите шаг табуляции: \"))\n",
        "except ValueError:\n",
        "    print(\"Ошибка: необходимо ввести числовое значение\")\n",
        "    exit()\n",
        "\n",
        "x = -k\n",
        "print(\"{:>10} {:>10}\".format(\"x\", \"f(x)\"))\n",
        "while x <= k:\n",
        "    try:\n",
        "        y = f(x)\n",
        "        print(\"{:10.2f} {:10.2f}\".format(x, y))\n",
        "    except ZeroDivisionError:\n",
        "        print(\"{:10.2f} {:>10}\".format(x, \"-\"))\n",
        "    except:\n",
        "        print(\"{:10.2f} {:>10}\".format(x, \"ошибка\"))\n",
        "\n",
        "    x += h"
      ]
    }
  ]
}