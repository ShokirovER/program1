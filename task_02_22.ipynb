{
  "nbformat": 4,
  "nbformat_minor": 0,
  "metadata": {
    "colab": {
      "provenance": [],
      "authorship_tag": "ABX9TyPCWgNMkMTprM69QG4naXAk",
      "include_colab_link": true
    },
    "kernelspec": {
      "name": "python3",
      "display_name": "Python 3"
    },
    "language_info": {
      "name": "python"
    }
  },
  "cells": [
    {
      "cell_type": "markdown",
      "metadata": {
        "id": "view-in-github",
        "colab_type": "text"
      },
      "source": [
        "<a href=\"https://colab.research.google.com/github/ShokirovER/program1/blob/main/task_02_22.ipynb\" target=\"_parent\"><img src=\"https://colab.research.google.com/assets/colab-badge.svg\" alt=\"Open In Colab\"/></a>"
      ]
    },
    {
      "cell_type": "code",
      "execution_count": 41,
      "metadata": {
        "colab": {
          "base_uri": "https://localhost:8080/"
        },
        "id": "NlwTZmvwmLAO",
        "outputId": "c36e4e48-fb82-4838-a30a-fa2a6c901e9b"
      },
      "outputs": [
        {
          "output_type": "stream",
          "name": "stdout",
          "text": [
            "n = 4\n",
            "1-е число = 6.2\n",
            "2-е число = 3.8\n",
            "3-е число = 1.1\n",
            "4-е число = 9.66\n",
            "Максимум: 9.66\n",
            "Минимум: 1.1\n"
          ]
        }
      ],
      "source": [
        "# Задание task_02_22.\n",
        "#\n",
        "# Выполнил: Шокиров Е.Р.\n",
        "# Группа: ЦИБ - 241\n",
        "# E-mail: ShokirovER123@mgpu.ru\n",
        "\n",
        "\n",
        "n = int(input('n = '))\n",
        "\n",
        "a_max = None\n",
        "a_min = None\n",
        "for i in range(n):\n",
        "  a = float(input('{}-е число = '.format(i + 1)))\n",
        "  if a_max is None:\n",
        "    a_max = a\n",
        "    a_min = a\n",
        "  else:\n",
        "    if a > a_max:\n",
        "      a_max = a\n",
        "    if a < a_min:\n",
        "      a_min = a\n",
        "\n",
        "print(\"Максимум: {}\".format(a_max))\n",
        "print(\"Минимум: {}\".format(a_min))\n",
        "\n",
        "# --------------\n",
        "# Пример вывода:\n",
        "#\n",
        "# n = 4\n",
        "# 1-е число = 6.2\n",
        "# 2-е число = 3.8\n",
        "# 3-е число = 1.1\n",
        "# 4-е число = 9.66\n",
        "# Максимум: 9.66\n",
        "# Минимум: 1.10"
      ]
    }
  ]
}