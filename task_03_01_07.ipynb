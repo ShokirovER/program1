{
  "nbformat": 4,
  "nbformat_minor": 0,
  "metadata": {
    "colab": {
      "provenance": [],
      "authorship_tag": "ABX9TyMLAU/JOHG6kX3bKXwpZMIO",
      "include_colab_link": true
    },
    "kernelspec": {
      "name": "python3",
      "display_name": "Python 3"
    },
    "language_info": {
      "name": "python"
    }
  },
  "cells": [
    {
      "cell_type": "markdown",
      "metadata": {
        "id": "view-in-github",
        "colab_type": "text"
      },
      "source": [
        "<a href=\"https://colab.research.google.com/github/ShokirovER/program1/blob/main/task_03_01_07.ipynb\" target=\"_parent\"><img src=\"https://colab.research.google.com/assets/colab-badge.svg\" alt=\"Open In Colab\"/></a>"
      ]
    },
    {
      "cell_type": "code",
      "execution_count": 7,
      "metadata": {
        "colab": {
          "base_uri": "https://localhost:8080/"
        },
        "id": "XxaWOZMTripE",
        "outputId": "d8399791-ef73-4fdd-de07-973a94c04b21"
      },
      "outputs": [
        {
          "output_type": "stream",
          "name": "stdout",
          "text": [
            "Введите количество предложений: 3\n",
            "Введите предложение №1: Просто текст\n",
            "Введите предложение №2: Текст с цифрой 1 (один)\n",
            "Введите предложение №3: Тут нет цифры\n",
            "Предложений с цифрой = 1\n"
          ]
        }
      ],
      "source": [
        "# Задание task_03_01_06.\n",
        "#\n",
        "# Выполнил: Шокиров Е.Р.\n",
        "# Группа: ЦИБ - 241\n",
        "\n",
        "\n",
        "\n",
        "# Задание task_03_01_07.\n",
        "#\n",
        "# Выполнил: Шокиров Е.Р.\n",
        "# Группа: ЦИБ-241\n",
        "\n",
        "\n",
        "\n",
        "def has_digits(sentence):\n",
        "    \"\"\"!!!\"\"\"\n",
        "    colvo = 0\n",
        "    colvo = sentence.count(\"1\")\n",
        "    return colvo\n",
        "\n",
        "\n",
        "\n",
        "def sentences_with_digits_count(sentences):\n",
        "\n",
        "    \"\"\"!!!.\"\"\"\n",
        "    count = 0\n",
        "    for sentence in sentences:\n",
        "        if has_digits(sentence) > 0:\n",
        "            count += 1\n",
        "    return count\n",
        "\n",
        "\n",
        "n = int(input(\"Введите количество предложений: \"))\n",
        "sentences_list = []\n",
        "\n",
        "for i in range(n):\n",
        "    sentence = input(f'Введите предложение №{i+1}: ')\n",
        "    sentences_list.append(sentence)\n",
        "\n",
        "\n",
        "\n",
        "\n",
        "print(\"Предложений с цифрой =\",sentences_with_digits_count(sentences_list))\n",
        "\n",
        "# --------------\n",
        "# Пример вывода:\n",
        "#\n",
        "# Введите количество предложений: 3\n",
        "# Введите предложение №1:\n",
        "# Просто текст\n",
        "# Введите предложение №2:\n",
        "# Текст с цифрой 1 (один)\n",
        "# Введите предложение №3:\n",
        "# Тут нет цифры\n",
        "# Предложений с цифрой = 1"
      ]
    }
  ]
}