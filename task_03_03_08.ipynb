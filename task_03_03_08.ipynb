{
  "nbformat": 4,
  "nbformat_minor": 0,
  "metadata": {
    "colab": {
      "provenance": [],
      "authorship_tag": "ABX9TyNwfKhrvdSPWXS2Y/jqrZCA",
      "include_colab_link": true
    },
    "kernelspec": {
      "name": "python3",
      "display_name": "Python 3"
    },
    "language_info": {
      "name": "python"
    }
  },
  "cells": [
    {
      "cell_type": "markdown",
      "metadata": {
        "id": "view-in-github",
        "colab_type": "text"
      },
      "source": [
        "<a href=\"https://colab.research.google.com/github/ShokirovER/program1/blob/main/task_03_03_08.ipynb\" target=\"_parent\"><img src=\"https://colab.research.google.com/assets/colab-badge.svg\" alt=\"Open In Colab\"/></a>"
      ]
    },
    {
      "cell_type": "code",
      "execution_count": 12,
      "metadata": {
        "colab": {
          "base_uri": "https://localhost:8080/"
        },
        "id": "ILRKgidir1rx",
        "outputId": "64e5327e-6c9e-4620-d9e0-27f92d5a9ced"
      },
      "outputs": [
        {
          "output_type": "stream",
          "name": "stdout",
          "text": [
            "Введите кол-во человек: 3\n",
            "Введите ФИО через пробел: Пупкин Василий Пупкович\n",
            "Введите ФИО через пробел: Глашкина Катя Петровна\n",
            "Введите ФИО через пробел: Краснов Илья Ильич\n",
            "Ильич\n",
            "В расчете участвовало человек: 3\n",
            "Введите кол-во человек: 2\n",
            "Введите ФИО через пробел: Широков Егор Русланович\n",
            "Введите ФИО через пробел: Вася Пупкин\n",
            "Наиболее часто встречаемое отчество: Русланович\n",
            "В расчете участвовало человек: 1\n"
          ]
        }
      ],
      "source": [
        "# Задание task_03_03_08.\n",
        "#\n",
        "# Выполнил: Шокиров Е.Р.\n",
        "# Группа: ЦИБ-241\n",
        "\n",
        "\n",
        "\n",
        "\"\"\"\n",
        "Ошибки (номера строк через пробел, данная строка - №2): !!!\n",
        "\"\"\"\n",
        "\n",
        "\n",
        "# Дан список ФИО. Найти наиболее часто встречаемое отчество.\n",
        "# Если отчества нет, человек не учитывается в подсчете.\n",
        "\n",
        "n = int(input(\"Введите кол-во человек: \"))\n",
        "\n",
        "middle_names = {}\n",
        "for i in range(n):\n",
        "    fio = input(\"Введите ФИО через пробел: \").split()\n",
        "\n",
        "    middle_name = fio[2]\n",
        "    middle_names[middle_name] = middle_names.get(middle_name, 0) + 1\n",
        "\n",
        "print(sorted(middle_names.items(), key=lambda item: item[1])[-1][0])\n",
        "print(\"В расчете участвовало человек:\", n)\n",
        "\n",
        "\n",
        "\"\"\"\n",
        "Ошибки (номера строк через пробел, данная строка - №2): 4 8 10 13\n",
        "\"\"\"\n",
        "\n",
        "\n",
        "# Дан список ФИО. Найти наиболее часто встречаемое отчество.\n",
        "# Если отчества нет, человек не учитывается в подсчете.\n",
        "\n",
        "try:\n",
        "    n = int(input(\"Введите кол-во человек: \"))\n",
        "    if n <= 0:\n",
        "        raise ValueError(\"Количество человек должно быть положительным числом\")\n",
        "\n",
        "    middle_names = {}\n",
        "    valid_count = 0\n",
        "\n",
        "    for i in range(n):\n",
        "        try:\n",
        "            fio = input(\"Введите ФИО через пробел: \").split()\n",
        "            if len(fio) < 3:\n",
        "                continue\n",
        "\n",
        "            middle_name = fio[2]\n",
        "            middle_names[middle_name] = middle_names.get(middle_name, 0) + 1\n",
        "            valid_count += 1\n",
        "\n",
        "        except IndexError:\n",
        "            continue\n",
        "\n",
        "    if not middle_names:\n",
        "        print(\"Нет данных для анализа (ни у кого не было отчества)\")\n",
        "    else:\n",
        "        most_common = sorted(middle_names.items(), key=lambda item: item[1])[-1][0]\n",
        "        print(f\"Наиболее часто встречаемое отчество: {most_common}\")\n",
        "        print(\"В расчете участвовало человек:\", valid_count)\n",
        "\n",
        "except ValueError as ve:\n",
        "    print(f\"Ошибка ввода числа: {ve}\")\n",
        "except Exception as e:\n",
        "    print(f\"Произошла непредвиденная ошибка: {e}\")"
      ]
    }
  ]
}