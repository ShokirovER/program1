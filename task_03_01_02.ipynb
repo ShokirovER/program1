{
  "nbformat": 4,
  "nbformat_minor": 0,
  "metadata": {
    "colab": {
      "provenance": [],
      "authorship_tag": "ABX9TyPIGFSgelGGD/polJO2L3nt",
      "include_colab_link": true
    },
    "kernelspec": {
      "name": "python3",
      "display_name": "Python 3"
    },
    "language_info": {
      "name": "python"
    }
  },
  "cells": [
    {
      "cell_type": "markdown",
      "metadata": {
        "id": "view-in-github",
        "colab_type": "text"
      },
      "source": [
        "<a href=\"https://colab.research.google.com/github/ShokirovER/program1/blob/main/task_03_01_02.ipynb\" target=\"_parent\"><img src=\"https://colab.research.google.com/assets/colab-badge.svg\" alt=\"Open In Colab\"/></a>"
      ]
    },
    {
      "cell_type": "code",
      "execution_count": 29,
      "metadata": {
        "colab": {
          "base_uri": "https://localhost:8080/"
        },
        "id": "q9454hKtG_nz",
        "outputId": "e72b3f4f-4df1-4052-d8cd-2e9796e0232e"
      },
      "outputs": [
        {
          "output_type": "stream",
          "name": "stdout",
          "text": [
            "Кол-во измерений: 3\n",
            "Измерение 1-e: 10\n",
            "Измерение 2-e: -\n",
            "Измерение 3-e: 20\n",
            "Средняя температура: 15.0\n"
          ]
        }
      ],
      "source": [
        "# Задание task_03_01_02.\n",
        "#\n",
        "# Выполнил: Шокиров Е.Р.\n",
        "# Группа: ЦИБ - 241\n",
        "\n",
        "\n",
        "def avg(data):\n",
        "  data = sum(cleared_data(data))/len(cleared_data(data))\n",
        "  return data\n",
        "\n",
        "\n",
        "def cleared_data(data):\n",
        "    while None in data:\n",
        "      data.remove(None)\n",
        "    else:\n",
        "      return data\n",
        "\n",
        "\n",
        "n = int(input('Кол-во измерений: '))\n",
        "\n",
        "# Если с клавиатуры вводится прочерк, измерения нет\n",
        "# (необходимо добавить в список None)\n",
        "data = []\n",
        "count = 1\n",
        "for i in range(n):\n",
        "  a = input(f'Измерение {count}-e: ')\n",
        "  count+=1\n",
        "  if a == '-':\n",
        "    data.append(None)\n",
        "  else:\n",
        "    data.append(int(a))\n",
        "\n",
        "# Удалите комментарий и допишите код\n",
        "\n",
        "# Получить очищенный список и среднее значение\n",
        "\n",
        "print('Средняя температура:', avg(data))\n",
        "\n",
        "# --------------\n",
        "# Пример вывода:\n",
        "#\n",
        "# Кол-во измерений: 3\n",
        "# Измерение 1-е: 10\n",
        "# Измерение 2-е: -\n",
        "# Измерение 3-е: 20\n",
        "# Средняя температура: 15.00"
      ]
    }
  ]
}