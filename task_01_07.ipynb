{
  "nbformat": 4,
  "nbformat_minor": 0,
  "metadata": {
    "colab": {
      "provenance": [],
      "authorship_tag": "ABX9TyMEDHtoLvVailGBNyexRakx",
      "include_colab_link": true
    },
    "kernelspec": {
      "name": "python3",
      "display_name": "Python 3"
    },
    "language_info": {
      "name": "python"
    }
  },
  "cells": [
    {
      "cell_type": "markdown",
      "metadata": {
        "id": "view-in-github",
        "colab_type": "text"
      },
      "source": [
        "<a href=\"https://colab.research.google.com/github/ShokirovER/program1/blob/main/task_01_07.ipynb\" target=\"_parent\"><img src=\"https://colab.research.google.com/assets/colab-badge.svg\" alt=\"Open In Colab\"/></a>"
      ]
    },
    {
      "cell_type": "code",
      "execution_count": 12,
      "metadata": {
        "colab": {
          "base_uri": "https://localhost:8080/"
        },
        "id": "bJTlzK74bhw1",
        "outputId": "d56a2dec-451f-4059-b97e-2fac0baa478d"
      },
      "outputs": [
        {
          "output_type": "stream",
          "name": "stdout",
          "text": [
            "Введите название команды: Спартак\n",
            "Спартак - чемпион!\n",
            "-------\n",
            "Символов в названии команды: 7\n",
            "Буква \"п\" есть: True\n",
            "Количество букв \"а\" : 2\n"
          ]
        }
      ],
      "source": [
        "# Задание task_01_07.\n",
        "#\n",
        "# Выполнил: Шокиров Е.Р.\n",
        "# Группа: ЦИБ - 241\n",
        "\n",
        "\n",
        "team = input(\"Введите название команды: \")\n",
        "\n",
        "print(team,'- чемпион!')\n",
        "\n",
        "print('-'* len(team))\n",
        "\n",
        "# Название команды в нижнем регистре\n",
        "team_lowercase = team.lower()\n",
        "print('Символов в названии команды:', len(team_lowercase))\n",
        "print('Буква \"п\" есть:', 'п' in team_lowercase)\n",
        "print('Количество букв \"а\" :', team_lowercase.find('а'))\n",
        "\n",
        "\n",
        "# --------------\n",
        "# Пример вывода:\n",
        "#\n",
        "# Введите название команды: Спартак\n",
        "# Спартак - чемпион!\n",
        "# -------\n",
        "# Символов в названии команды: 7\n",
        "# Буква \"п\" есть: True\n",
        "# Количество букв \"а\": 2"
      ]
    }
  ]
}