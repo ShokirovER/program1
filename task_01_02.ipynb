{
  "nbformat": 4,
  "nbformat_minor": 0,
  "metadata": {
    "colab": {
      "provenance": [],
      "authorship_tag": "ABX9TyOSeNqQeC+aM14wFPS4X9Li",
      "include_colab_link": true
    },
    "kernelspec": {
      "name": "python3",
      "display_name": "Python 3"
    },
    "language_info": {
      "name": "python"
    }
  },
  "cells": [
    {
      "cell_type": "markdown",
      "metadata": {
        "id": "view-in-github",
        "colab_type": "text"
      },
      "source": [
        "<a href=\"https://colab.research.google.com/github/ShokirovER/program1/blob/main/task_01_02.ipynb\" target=\"_parent\"><img src=\"https://colab.research.google.com/assets/colab-badge.svg\" alt=\"Open In Colab\"/></a>"
      ]
    },
    {
      "cell_type": "code",
      "execution_count": 4,
      "metadata": {
        "colab": {
          "base_uri": "https://localhost:8080/"
        },
        "id": "yBO3BAsGtwPM",
        "outputId": "85b37805-0e03-4248-db04-66f4000807fb"
      },
      "outputs": [
        {
          "output_type": "stream",
          "name": "stdout",
          "text": [
            "0\n",
            "1\n",
            "2\n",
            "0.15\n"
          ]
        }
      ],
      "source": [
        "# Задание task_01_02.\n",
        "#\n",
        "# Выполнил: Шокиров Е.Р.\n",
        "# Группа: ЦИБ - 241\n",
        "\n",
        "\n",
        "x = 0\n",
        "y = 1\n",
        "z = 2\n",
        "\n",
        "res = ((x**5+7)/abs(-6)*y)**(1/3)/7 - z % y\n",
        "print(x)\n",
        "print(y)\n",
        "print(z)\n",
        "print(round(res, 3))\n",
        "\n",
        "\n",
        "\n",
        "# --------------\n",
        "# Пример вывода:\n",
        "#\n",
        "# x=0\n",
        "# y=1\n",
        "# z=2\n",
        "# 0.15\n"
      ]
    }
  ]
}