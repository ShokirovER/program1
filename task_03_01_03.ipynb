{
  "nbformat": 4,
  "nbformat_minor": 0,
  "metadata": {
    "colab": {
      "provenance": [],
      "authorship_tag": "ABX9TyNz+7ZPihBPAymu8Y8UyvnD",
      "include_colab_link": true
    },
    "kernelspec": {
      "name": "python3",
      "display_name": "Python 3"
    },
    "language_info": {
      "name": "python"
    }
  },
  "cells": [
    {
      "cell_type": "markdown",
      "metadata": {
        "id": "view-in-github",
        "colab_type": "text"
      },
      "source": [
        "<a href=\"https://colab.research.google.com/github/ShokirovER/program1/blob/main/task_03_01_03.ipynb\" target=\"_parent\"><img src=\"https://colab.research.google.com/assets/colab-badge.svg\" alt=\"Open In Colab\"/></a>"
      ]
    },
    {
      "cell_type": "code",
      "execution_count": 3,
      "metadata": {
        "colab": {
          "base_uri": "https://localhost:8080/"
        },
        "id": "q9454hKtG_nz",
        "outputId": "d2c8fa9c-f55a-4ade-ebfa-594e1528ce90"
      },
      "outputs": [
        {
          "name": "stdout",
          "output_type": "stream",
          "text": [
            "Первый номер билета: 10\n",
            "Последний номер билета: 25\n",
            "10 12 14 16 18 21 23 25\n",
            "Первый номер билета: 10\n",
            "Последний номер билета: 25\n"
          ]
        }
      ],
      "source": [
        "# Задание task_03_01_03.\n",
        "#\n",
        "# Выполнил: Шокиров Е.Р.\n",
        "# Группа: ЦИБ - 241\n",
        "\n",
        "\n",
        "\n",
        "def is_lucky(num):\n",
        "    even_count = 0\n",
        "    odd_count = 0\n",
        "    for digit in str(num):\n",
        "        if int(digit) % 2 == 0:\n",
        "            even_count += 1\n",
        "        else:\n",
        "            odd_count += 1\n",
        "    return even_count == odd_count\n",
        "\n",
        "\n",
        "def lucky_numbers(a, b):\n",
        "    lucky_nums = []\n",
        "    for num in range(a, b + 1):\n",
        "        if is_lucky(num):\n",
        "            lucky_nums.append(num)\n",
        "    return lucky_nums\n",
        "\n",
        "\n",
        "# Ввод диапазона\n",
        "a = int(input(\"Первый номер билета: \"))\n",
        "b = int(input(\"Последний номер билета: \"))\n",
        "\n",
        "# Получение списка счастливых номеров\n",
        "lucky_nums = lucky_numbers(a, b)\n",
        "\n",
        "# Вывод результата\n",
        "print(\" \".join(map(str, lucky_nums)))\n",
        "\n",
        "\n",
        "# Вывод должен быть осуществлен в строку с одним пробелом-разделителем\n",
        "# Удалите комментарий и допишите код\n",
        "\n",
        "# --------------\n",
        "# Пример вывода:\n",
        "#\n",
        "# Первый номер билета: 10\n",
        "# Последний номер билета: 25\n",
        "# 10 12 14 16 18 21 23 25"
      ]
    }
  ]
}