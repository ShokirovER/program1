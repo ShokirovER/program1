{
  "nbformat": 4,
  "nbformat_minor": 0,
  "metadata": {
    "colab": {
      "provenance": [],
      "authorship_tag": "ABX9TyNq+cwHZ5wyiCw4vYdqnRF4",
      "include_colab_link": true
    },
    "kernelspec": {
      "name": "python3",
      "display_name": "Python 3"
    },
    "language_info": {
      "name": "python"
    }
  },
  "cells": [
    {
      "cell_type": "markdown",
      "metadata": {
        "id": "view-in-github",
        "colab_type": "text"
      },
      "source": [
        "<a href=\"https://colab.research.google.com/github/ShokirovER/program1/blob/main/task_03_01_12.ipynb\" target=\"_parent\"><img src=\"https://colab.research.google.com/assets/colab-badge.svg\" alt=\"Open In Colab\"/></a>"
      ]
    },
    {
      "cell_type": "code",
      "execution_count": 1,
      "metadata": {
        "colab": {
          "base_uri": "https://localhost:8080/"
        },
        "id": "llK_wSGKxkCF",
        "outputId": "e318702f-7e20-48b6-eacd-0e2828a6cf77"
      },
      "outputs": [
        {
          "output_type": "stream",
          "name": "stdout",
          "text": [
            "[5, 7]\n",
            "[(5, 1), (5, 2), (5, 3), (5, 4), (6, 2), (6, 3), (7, 1), (7, 2), (7, 3), (7, 4), (8, 3), (9, 2), (9, 3)]\n",
            "[(5, 1), (5, 3), (6, 3), (7, 1), (7, 3), (8, 3), (9, 3)]\n",
            "[(5, 2), (5, 4), (6, 2), (7, 2), (7, 4), (9, 2)]\n",
            "[(5, 1), (5, 2), (5, 3), (5, 4), (7, 1), (7, 2), (7, 3), (7, 4), (8, 3)]\n",
            "[(5, 1), (5, 2), (5, 3), (5, 4), (7, 1), (7, 2), (7, 3), (7, 4), (9, 2), (9, 3)]\n"
          ]
        }
      ],
      "source": [
        "# Задание task_03_01_12.\n",
        "#\n",
        "# Выполнил: Шокиров Е.Р.\n",
        "# Группа: ЦИБ-241\n",
        "\n",
        "# В данной задаче ввод с клавиатуры не нужен.\n",
        "#\n",
        "# Используйте пример данных ниже, при необходимости измените его для\n",
        "# проверки правильности решения\n",
        "\n",
        "data = [\n",
        "    {1: 'м', 2: 'м', 3: 'м', 4: 'ж'},\n",
        "    {1: 'ж', 2: 'м', 3: 'ж', 4: 'ж'},\n",
        "    {1: 'ж', 2: 'ж', 3: 'ж', 4: 'ж'},\n",
        "    {1: 'м', 2: 'м', 3: 'м', 4: 'м'},\n",
        "    {1: None, 2: None, 3: None, 4: None},\n",
        "    {1: 'м', 2: None, 3: None, 4: 'ж'},\n",
        "    {1: None, 2: None, 3: None, 4: None},\n",
        "    {1: 'м', 2: 'м', 3: None, 4: 'м'},\n",
        "    {1: 'ж', 2: None, 3: None, 4: 'ж'}\n",
        "]\n",
        "\n",
        "\n",
        "def vacant_compartments(data):\n",
        "    \"\"\"Вернуть список полностью свободных купе. Нумерация купе идет с 1.\n",
        "\n",
        "    Параметры:\n",
        "        - data (list of dict): данные о занятости мест в вагоне.\n",
        "\n",
        "    Результат:\n",
        "        list of int.\"\"\"\n",
        "    result = []\n",
        "    for i, compartment in enumerate(data, 1):\n",
        "        if all(value is None for value in compartment.values()):\n",
        "            result.append(i)\n",
        "    return result\n",
        "\n",
        "\n",
        "def vacant_seats(data, compartments_condition=None, seat_condition=None):\n",
        "    \"\"\"Вернуть список свободных мест при соблюдении условий\n",
        "    'compartments_condition' и 'seat_condition'.\n",
        "    Нумерация купе и мест идет с 1.\n",
        "\n",
        "    Параметры:\n",
        "        - data (list of dict): данные о занятости мест в вагоне;\n",
        "        - compartments_condition (function):\n",
        "          функция c 1 параметром (словарь - купе), возвращающая True/False;\n",
        "        - seat_condition (function):\n",
        "          функция c 2 параметрами (номер места, значение),\n",
        "          возвращающая True/False.\n",
        "\n",
        "    Результат:\n",
        "        list of tuple: список кортежей вида (номер купе, номер места).\"\"\"\n",
        "    result = []\n",
        "    for compartment_num, compartment in enumerate(data, 1):\n",
        "        if compartments_condition is None or compartments_condition(compartment):\n",
        "            for seat, value in compartment.items():\n",
        "                if value is None and (seat_condition is None or seat_condition(seat, value)):\n",
        "                    result.append((compartment_num, seat))\n",
        "    return result\n",
        "\n",
        "\n",
        "def is_same_sex_and_vacant(compartment, sex):\n",
        "    \"\"\"Вернуть True, если в купе 'compartment' есть свободные места,\n",
        "    а остальные пассажиры только пола 'sex'.\n",
        "\n",
        "    Параметры:\n",
        "        - compartment (dict): данные о купе;\n",
        "        - sex (str): пол (\"м\" или \"ж\").\n",
        "\n",
        "    Результат:\n",
        "        bool.\"\"\"\n",
        "    has_vacant = any(value is None for value in compartment.values())\n",
        "    if not has_vacant:\n",
        "        return False\n",
        "    for value in compartment.values():\n",
        "        if value is not None and value != sex:\n",
        "            return False\n",
        "    return True\n",
        "\n",
        "\n",
        "print(vacant_compartments(data))\n",
        "print(vacant_seats(data))\n",
        "print(vacant_seats(data, seat_condition=lambda seat, value: seat % 2 != 0))\n",
        "print(vacant_seats(data, seat_condition=lambda seat, value: seat % 2 == 0))\n",
        "print(vacant_seats(data, lambda x: is_same_sex_and_vacant(x, \"м\")))\n",
        "print(vacant_seats(data, lambda x: is_same_sex_and_vacant(x, \"ж\")))\n",
        "\n",
        "\n",
        "# --------------\n",
        "# Пример вывода:\n",
        "#\n",
        "# [5, 7]\n",
        "# [(5, 1), (5, 2), (5, 3), (5, 4), (6, 2), (6, 3), (7, 1), (7, 2), (7, 3),\n",
        "#  (7, 4), (8, 3), (9, 2), (9, 3)]\n",
        "# [(5, 1), (5, 3), (6, 3), (7, 1), (7, 3), (8, 3), (9, 3)]\n",
        "# [(5, 2), (5, 4), (6, 2), (7, 2), (7, 4), (9, 2)]\n",
        "# [(8, 3)]\n",
        "# [(9, 2), (9, 3)]"
      ]
    }
  ]
}