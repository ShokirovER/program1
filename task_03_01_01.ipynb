{
  "nbformat": 4,
  "nbformat_minor": 0,
  "metadata": {
    "colab": {
      "provenance": [],
      "authorship_tag": "ABX9TyMb4jDLFsxXNPyA3X32qd6T",
      "include_colab_link": true
    },
    "kernelspec": {
      "name": "python3",
      "display_name": "Python 3"
    },
    "language_info": {
      "name": "python"
    }
  },
  "cells": [
    {
      "cell_type": "markdown",
      "metadata": {
        "id": "view-in-github",
        "colab_type": "text"
      },
      "source": [
        "<a href=\"https://colab.research.google.com/github/ShokirovER/program1/blob/main/task_03_01_01.ipynb\" target=\"_parent\"><img src=\"https://colab.research.google.com/assets/colab-badge.svg\" alt=\"Open In Colab\"/></a>"
      ]
    },
    {
      "cell_type": "code",
      "execution_count": 5,
      "metadata": {
        "colab": {
          "base_uri": "https://localhost:8080/"
        },
        "id": "q9454hKtG_nz",
        "outputId": "11545339-d7ad-44fe-dc6e-a4f31bfa0e07"
      },
      "outputs": [
        {
          "output_type": "stream",
          "name": "stdout",
          "text": [
            "Введите x: -9\n",
            "Введите y: 0\n",
            "Ответ: 0.33\n"
          ]
        }
      ],
      "source": [
        "# Задание task_03_01_01.\n",
        "#\n",
        "# Выполнил: Шокиров Е.Р.\n",
        "# Группа: ЦИБ - 241\n",
        "\n",
        "\n",
        "def sgn(x):\n",
        "    \"\"\"Вернуть результат сигнум-функции.\n",
        "\n",
        "    Параметры:\n",
        "        - x (float): аргумент x.\n",
        "\n",
        "    Результат:\n",
        "        float: значение функции.\n",
        "    \"\"\"\n",
        "    if x > 0:\n",
        "      x = 1\n",
        "    elif x < 0:\n",
        "      x = -1\n",
        "    else:\n",
        "      x = 0\n",
        "    return x\n",
        "\n",
        "def sgn(y):\n",
        "    if y > 0:\n",
        "      y = 1\n",
        "    elif y < 0:\n",
        "      y = -1\n",
        "    else:\n",
        "      y = 0\n",
        "    return y\n",
        "\n",
        "\n",
        "x = int(input('Введите x: '))\n",
        "y = int(input('Введите y: '))\n",
        "z = (sgn(x)+y**2)/(sgn(y)-(abs(x)**0.5))\n",
        "print(\"Ответ:\", round(z, 2))\n",
        "\n",
        "# --------------\n",
        "# Пример вывода:\n",
        "#\n",
        "# Введите x: -9\n",
        "# Введите y: 0\n",
        "# Ответ: 0.33"
      ]
    }
  ]
}