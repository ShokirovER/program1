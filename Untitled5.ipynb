{
  "nbformat": 4,
  "nbformat_minor": 0,
  "metadata": {
    "colab": {
      "provenance": [],
      "authorship_tag": "ABX9TyMXg8xjrYFH25hpyqE14OCM",
      "include_colab_link": true
    },
    "kernelspec": {
      "name": "python3",
      "display_name": "Python 3"
    },
    "language_info": {
      "name": "python"
    }
  },
  "cells": [
    {
      "cell_type": "markdown",
      "metadata": {
        "id": "view-in-github",
        "colab_type": "text"
      },
      "source": [
        "<a href=\"https://colab.research.google.com/github/ShokirovER/program1/blob/main/Untitled5.ipynb\" target=\"_parent\"><img src=\"https://colab.research.google.com/assets/colab-badge.svg\" alt=\"Open In Colab\"/></a>"
      ]
    },
    {
      "cell_type": "code",
      "execution_count": 16,
      "metadata": {
        "colab": {
          "base_uri": "https://localhost:8080/"
        },
        "id": "8ubbbk5OBuxK",
        "outputId": "11a3c02f-3e28-4819-9331-36bc9359f026"
      },
      "outputs": [
        {
          "output_type": "stream",
          "name": "stdout",
          "text": [
            "2 3 5 7 11 13 17 19 23 29\n"
          ]
        }
      ],
      "source": [
        "# Задание task_02_27.\n",
        "#\n",
        "# Выполнил: Шокиров Е.Р.\n",
        "# Группа: ЦИБ - 241\n",
        "\n",
        "\n",
        "\n",
        "n = 10\n",
        "a = []\n",
        "num = 2\n",
        "\n",
        "while len(a) < n:\n",
        "    is_a = True\n",
        "    i = 2\n",
        "    while i <= num**0.5:\n",
        "        if num % i == 0:\n",
        "            is_a = False\n",
        "            break\n",
        "        i += 1\n",
        "    if is_a:\n",
        "        a.append(num)\n",
        "    num += 1\n",
        "\n",
        "print(\" \".join(map(str, a)))\n",
        "\n",
        "# --------------\n",
        "# Пример вывода:\n",
        "#\n",
        "# n = 10\n",
        "# 2 3 5 7 11 13 17 19 23 29"
      ]
    }
  ]
}