{
  "nbformat": 4,
  "nbformat_minor": 0,
  "metadata": {
    "colab": {
      "provenance": [],
      "authorship_tag": "ABX9TyOWlH7pV4aH7INM1T9EffA9",
      "include_colab_link": true
    },
    "kernelspec": {
      "name": "python3",
      "display_name": "Python 3"
    },
    "language_info": {
      "name": "python"
    }
  },
  "cells": [
    {
      "cell_type": "markdown",
      "metadata": {
        "id": "view-in-github",
        "colab_type": "text"
      },
      "source": [
        "<a href=\"https://colab.research.google.com/github/ShokirovER/program1/blob/main/task_02_13.ipynb\" target=\"_parent\"><img src=\"https://colab.research.google.com/assets/colab-badge.svg\" alt=\"Open In Colab\"/></a>"
      ]
    },
    {
      "cell_type": "code",
      "execution_count": 10,
      "metadata": {
        "colab": {
          "base_uri": "https://localhost:8080/"
        },
        "id": "wRTWrV34YTwW",
        "outputId": "3671af3e-ac76-4813-9c8b-b31df177ceeb"
      },
      "outputs": [
        {
          "output_type": "stream",
          "name": "stdout",
          "text": [
            "a = 1\n",
            "b = 5\n",
            "Сумма = 15\n",
            "Произведение = 120\n",
            "Среднее арифметическое = 3.0\n",
            "Среднее геометрическое нечетных чисел = 2.47\n"
          ]
        }
      ],
      "source": [
        "# Программирование на языке высокого уровня (Python).\n",
        "# https://www.yuripetrov.ru/edu/python\n",
        "# Задание task_02_13.\n",
        "#\n",
        "# Выполнил: Шокиров Е.Р.\n",
        "# Группа: ЦИБ - 241\n",
        "# E-mail: ShokirovER123@mgpu.ru\n",
        "\n",
        "\n",
        "a = int(input('a = '))\n",
        "b = int(input('b = '))\n",
        "\n",
        "n_sum = 0\n",
        "for i in range(a, b+1):\n",
        "  n_sum += i\n",
        "\n",
        "n_mult = 1\n",
        "for i in range(a, b+1):\n",
        "  n_mult *= i\n",
        "\n",
        "n_avg = 0\n",
        "n_count = 0\n",
        "for i in range(a, b+1):\n",
        "  n_count +=1\n",
        "  n_avg = n_avg + i\n",
        "\n",
        "n_avg = n_avg/n_count\n",
        "\n",
        "n_count1 = 0\n",
        "n_avg_geom = 1\n",
        "for i in range(a, b+1):\n",
        "  if i % 2 !=0:\n",
        "    n_count1 +=1\n",
        "    n_avg_geom = n_avg_geom * i\n",
        "\n",
        "n_avg_geom = n_avg_geom**(1/n_count1)\n",
        "n_avg_geom = round(n_avg_geom, 2)\n",
        "\n",
        "print(\"Сумма =\", n_sum)\n",
        "print(\"Произведение =\", n_mult)\n",
        "print(\"Среднее арифметическое = {}\".format(n_avg))\n",
        "print(\"Среднее геометрическое нечетных чисел = {}\".format(n_avg_geom))\n",
        "\n",
        "# --------------\n",
        "# Пример вывода:\n",
        "#\n",
        "# a = 1\n",
        "# b = 5\n",
        "# Сумма = 15\n",
        "# Произведение = 120\n",
        "# Среднее арифметическое = 3.00\n",
        "# Среднее геометрическое нечетных чисел = 2.47"
      ]
    }
  ]
}