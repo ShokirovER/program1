{
  "nbformat": 4,
  "nbformat_minor": 0,
  "metadata": {
    "colab": {
      "provenance": [],
      "authorship_tag": "ABX9TyNKcNx66aStb3mUJo7bIEA9",
      "include_colab_link": true
    },
    "kernelspec": {
      "name": "python3",
      "display_name": "Python 3"
    },
    "language_info": {
      "name": "python"
    }
  },
  "cells": [
    {
      "cell_type": "markdown",
      "metadata": {
        "id": "view-in-github",
        "colab_type": "text"
      },
      "source": [
        "<a href=\"https://colab.research.google.com/github/ShokirovER/program1/blob/main/task_03_01_14.ipynb\" target=\"_parent\"><img src=\"https://colab.research.google.com/assets/colab-badge.svg\" alt=\"Open In Colab\"/></a>"
      ]
    },
    {
      "cell_type": "code",
      "execution_count": 3,
      "metadata": {
        "colab": {
          "base_uri": "https://localhost:8080/"
        },
        "id": "llK_wSGKxkCF",
        "outputId": "abe8cb13-1c11-4cfd-edc9-43fc5db1524c"
      },
      "outputs": [
        {
          "output_type": "stream",
          "name": "stdout",
          "text": [
            "([-5, -33], [0, 1, 4])\n"
          ]
        }
      ],
      "source": [
        "# Задание task_03_01_14.\n",
        "#\n",
        "# Выполнил: Шокиров Е.Р.\n",
        "# Группа: ЦИБ-241\n",
        "\n",
        "def split_numbers(*args):\n",
        "    \"\"\"Вернуть 2 списка - отрицательных и неотицательных значений.\n",
        "\n",
        "    Аргументы:\n",
        "        *args: произвольное количество числовых аргументов.\n",
        "\n",
        "    Результат:\n",
        "        - list: отрицательные значения;\n",
        "        - list: неотицательные значения.\"\"\"\n",
        "    negative_numbers = [x for x in args if x < 0]\n",
        "    non_negative_numbers = [x for x in args if x >= 0]\n",
        "\n",
        "    negative_numbers.sort(reverse=True)\n",
        "\n",
        "    non_negative_numbers.sort()\n",
        "\n",
        "    return (negative_numbers, non_negative_numbers)\n",
        "\n",
        "\n",
        "print(split_numbers(1, 4, -5, 0, -33))\n",
        "\n",
        "# --------------\n",
        "# Пример вывода:\n",
        "#\n",
        "# ([-5, -33], [0, 1, 4])"
      ]
    }
  ]
}