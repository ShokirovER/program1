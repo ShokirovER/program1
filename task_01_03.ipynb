{
  "nbformat": 4,
  "nbformat_minor": 0,
  "metadata": {
    "colab": {
      "provenance": [],
      "authorship_tag": "ABX9TyOwLTH7LNymyg7oATadU2Or",
      "include_colab_link": true
    },
    "kernelspec": {
      "name": "python3",
      "display_name": "Python 3"
    },
    "language_info": {
      "name": "python"
    }
  },
  "cells": [
    {
      "cell_type": "markdown",
      "metadata": {
        "id": "view-in-github",
        "colab_type": "text"
      },
      "source": [
        "<a href=\"https://colab.research.google.com/github/ShokirovER/program1/blob/main/task_01_03.ipynb\" target=\"_parent\"><img src=\"https://colab.research.google.com/assets/colab-badge.svg\" alt=\"Open In Colab\"/></a>"
      ]
    },
    {
      "cell_type": "code",
      "execution_count": 1,
      "metadata": {
        "colab": {
          "base_uri": "https://localhost:8080/"
        },
        "id": "vydqnADwNVs2",
        "outputId": "4b90eb49-b4ed-47f6-f0e5-d27b2a4df6df"
      },
      "outputs": [
        {
          "output_type": "stream",
          "name": "stdout",
          "text": [
            "r1=12.2\n",
            "r2=16.1\n",
            "28.3\n"
          ]
        }
      ],
      "source": [
        "# Задание task_01_03.\n",
        "#\n",
        "# Выполнил: Шокиров Е.Р.\n",
        "# Группа: ЦИБ - 241\n",
        "\n",
        "\n",
        "# Сопротивление первого проводника\n",
        "r1 = 12.2\n",
        "r2 = 16.1\n",
        "\n",
        "# Общее сопротивление\n",
        "r = r1+r2\n",
        "\n",
        "r = round(r, 1)\n",
        "print('r1=12.2')\n",
        "print('r2=16.1')\n",
        "print(r)\n",
        "\n",
        "\n",
        "# --------------\n",
        "# Пример вывода:\n",
        "#\n",
        "# r1=12.2\n",
        "# r2=16.1\n",
        "# 28.3"
      ]
    }
  ]
}