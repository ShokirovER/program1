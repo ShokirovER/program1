{
  "nbformat": 4,
  "nbformat_minor": 0,
  "metadata": {
    "colab": {
      "provenance": [],
      "authorship_tag": "ABX9TyNpm+g1bOXiRvr461AMyuAW",
      "include_colab_link": true
    },
    "kernelspec": {
      "name": "python3",
      "display_name": "Python 3"
    },
    "language_info": {
      "name": "python"
    }
  },
  "cells": [
    {
      "cell_type": "markdown",
      "metadata": {
        "id": "view-in-github",
        "colab_type": "text"
      },
      "source": [
        "<a href=\"https://colab.research.google.com/github/ShokirovER/program1/blob/main/task_01_06.ipynb\" target=\"_parent\"><img src=\"https://colab.research.google.com/assets/colab-badge.svg\" alt=\"Open In Colab\"/></a>"
      ]
    },
    {
      "cell_type": "code",
      "execution_count": 1,
      "metadata": {
        "colab": {
          "base_uri": "https://localhost:8080/"
        },
        "id": "gPlQd7ZoZ6fg",
        "outputId": "aedf0835-a07f-4244-e6d0-7e4c2534f23b"
      },
      "outputs": [
        {
          "output_type": "stream",
          "name": "stdout",
          "text": [
            "Введите a = 1\n",
            "Введите b = 2\n",
            "Введите m = -5\n",
            "Введите n = 5\n",
            "Попадает: True\n"
          ]
        }
      ],
      "source": [
        "# Задание task_01_06.\n",
        "#\n",
        "# Выполнил: Шокиров Е.Р.\n",
        "# Группа: ЦИБ - 241\n",
        "\n",
        "\n",
        "a = int(input('Введите a = '))\n",
        "b = int(input('Введите b = '))\n",
        "m = int(input('Введите m = '))\n",
        "n = int(input('Введите n = '))\n",
        "\n",
        "x = -b // a\n",
        "\n",
        "is_ok = x >= m and x <=n\n",
        "\n",
        "print(\"Попадает:\", is_ok)\n",
        "\n",
        "\n",
        "# --------------\n",
        "# Пример вывода:\n",
        "#\n",
        "# Введите a = 1\n",
        "# Введите b = 2\n",
        "# Введите m = -5\n",
        "# Введите n = 5\n",
        "# Попадает: True"
      ]
    }
  ]
}