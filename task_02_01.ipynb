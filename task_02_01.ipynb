{
  "nbformat": 4,
  "nbformat_minor": 0,
  "metadata": {
    "colab": {
      "provenance": [],
      "authorship_tag": "ABX9TyNZqFD8jvEoSB8XrtFR2k2B",
      "include_colab_link": true
    },
    "kernelspec": {
      "name": "python3",
      "display_name": "Python 3"
    },
    "language_info": {
      "name": "python"
    }
  },
  "cells": [
    {
      "cell_type": "markdown",
      "metadata": {
        "id": "view-in-github",
        "colab_type": "text"
      },
      "source": [
        "<a href=\"https://colab.research.google.com/github/ShokirovER/program1/blob/main/task_02_01.ipynb\" target=\"_parent\"><img src=\"https://colab.research.google.com/assets/colab-badge.svg\" alt=\"Open In Colab\"/></a>"
      ]
    },
    {
      "cell_type": "code",
      "execution_count": 16,
      "metadata": {
        "colab": {
          "base_uri": "https://localhost:8080/"
        },
        "id": "Q0hMqAbdyX4Q",
        "outputId": "2a6e0b87-20a1-40d9-e7a8-c6dc83dc33c6"
      },
      "outputs": [
        {
          "output_type": "stream",
          "name": "stdout",
          "text": [
            "Введите число x:10\n",
            "103.16\n"
          ]
        }
      ],
      "source": [
        "# Задание task_02_01.\n",
        "#\n",
        "# Выполнил: Шокиров Е.Р.\n",
        "# Группа:ЦИБ - 241\n",
        "\n",
        "\n",
        "\n",
        "x = float(input('Введите число x:'))\n",
        "\n",
        "if x >= 0:\n",
        "    f = x**0.5 + x**2\n",
        "else:\n",
        "    f = 1 / x\n",
        "\n",
        "print(round(f, 2))\n",
        "\n",
        "# --------------\n",
        "# Пример вывода:\n",
        "#\n",
        "# Введите число x: -10\n",
        "# f = -0.10\n",
        "\n",
        "# Введите число x: 0\n",
        "# f = 0.00\n",
        "\n",
        "# Введите число x: 10\n",
        "# f = 103.16"
      ]
    }
  ]
}