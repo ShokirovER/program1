{
  "nbformat": 4,
  "nbformat_minor": 0,
  "metadata": {
    "colab": {
      "provenance": [],
      "authorship_tag": "ABX9TyOzQMt+G5YwI50+kuN33xYu",
      "include_colab_link": true
    },
    "kernelspec": {
      "name": "python3",
      "display_name": "Python 3"
    },
    "language_info": {
      "name": "python"
    }
  },
  "cells": [
    {
      "cell_type": "markdown",
      "metadata": {
        "id": "view-in-github",
        "colab_type": "text"
      },
      "source": [
        "<a href=\"https://colab.research.google.com/github/ShokirovER/program1/blob/main/task_02_14.ipynb\" target=\"_parent\"><img src=\"https://colab.research.google.com/assets/colab-badge.svg\" alt=\"Open In Colab\"/></a>"
      ]
    },
    {
      "cell_type": "code",
      "execution_count": 43,
      "metadata": {
        "colab": {
          "base_uri": "https://localhost:8080/"
        },
        "id": "wRTWrV34YTwW",
        "outputId": "a4b581e0-94c0-4d1d-adc2-61ae4757d796"
      },
      "outputs": [
        {
          "output_type": "stream",
          "name": "stdout",
          "text": [
            "Пробег за 1-й день (км.) = 5\n",
            "На сколько увеличивает пробег (%) = 10\n",
            "Пробег за 2-й день:  5.5 км.\n",
            "Пробег за 3-й день:  6.0 км.\n",
            "Пробег за 4-й день:  6.7 км.\n",
            "Пробег за 5-й день:  7.3 км.\n",
            "Пробег за 6-й день:  8.1 км.\n",
            "Пробег за 7-й день:  8.9 км.\n",
            "Пробег за 8-й день:  9.7 км.\n",
            "Пробег за 9-й день:  10.7 км.\n",
            "Пробег за 10-й день:  11.8 км.\n",
            "Суммарный пробег: 79.7 км.\n"
          ]
        }
      ],
      "source": [
        "# Задание task_02_14.\n",
        "#\n",
        "# Выполнил: Шокиров Е.Р.\n",
        "# Группа: ЦИБ - 241\n",
        "\n",
        "\n",
        "\n",
        "s = float(input('Пробег за 1-й день (км.) = '))\n",
        "p = float(input('На сколько увеличивает пробег (%) = '))\n",
        "\n",
        "total = s\n",
        "total1 = 0\n",
        "days_count = 1\n",
        "for i in range(2, 11):\n",
        "  days_count +=1\n",
        "  total = total + (p/100)*total\n",
        "  total1 = total1+total\n",
        "  print('Пробег за {}-й день: '.format(days_count), round(total, 1), 'км.')\n",
        "\n",
        "total1 = round(total1 + s, 1)\n",
        "print(\"Суммарный пробег: {} км.\".format(total1))\n",
        "\n",
        "# --------------\n",
        "# Пример вывода:\n",
        "#\n",
        "# Пробег за 1-й день (км.) = 5\n",
        "# На сколько увеличивает пробег (%) = 10\n",
        "# Пробег за 2-й день: 5.5 км.\n",
        "# Пробег за 3-й день: 6.1 км.\n",
        "# Пробег за 4-й день: 6.7 км.\n",
        "# Пробег за 5-й день: 7.3 км.\n",
        "# Пробег за 6-й день: 8.1 км.\n",
        "# Пробег за 7-й день: 8.9 км.\n",
        "# Пробег за 8-й день: 9.7 км.\n",
        "# Пробег за 9-й день: 10.7 км.\n",
        "# Пробег за 10-й день: 11.8 км.\n",
        "# Суммарный пробег: 79.7 км."
      ]
    }
  ]
}