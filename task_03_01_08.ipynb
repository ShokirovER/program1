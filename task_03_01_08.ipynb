{
  "nbformat": 4,
  "nbformat_minor": 0,
  "metadata": {
    "colab": {
      "provenance": [],
      "authorship_tag": "ABX9TyMEolGmEwIrLidnSM8BS5L+",
      "include_colab_link": true
    },
    "kernelspec": {
      "name": "python3",
      "display_name": "Python 3"
    },
    "language_info": {
      "name": "python"
    }
  },
  "cells": [
    {
      "cell_type": "markdown",
      "metadata": {
        "id": "view-in-github",
        "colab_type": "text"
      },
      "source": [
        "<a href=\"https://colab.research.google.com/github/ShokirovER/program1/blob/main/task_03_01_08.ipynb\" target=\"_parent\"><img src=\"https://colab.research.google.com/assets/colab-badge.svg\" alt=\"Open In Colab\"/></a>"
      ]
    },
    {
      "cell_type": "code",
      "execution_count": 10,
      "metadata": {
        "colab": {
          "base_uri": "https://localhost:8080/"
        },
        "id": "llK_wSGKxkCF",
        "outputId": "8d059269-e56f-45b7-be5b-5cf62226420e"
      },
      "outputs": [
        {
          "output_type": "stream",
          "name": "stdout",
          "text": [
            "Введите строку: Просто текст\n",
            "введите символ: +\n",
            "++++++++++++++\n",
            "+Просто текст+\n",
            "++++++++++++++\n"
          ]
        }
      ],
      "source": [
        "# Задание task_03_01_05.\n",
        "#\n",
        "\n",
        "# Задание task_03_01_08.\n",
        "#\n",
        "# Выполнил: Шокиров Е.Р.\n",
        "# Группа: ЦИБ-241\n",
        "\n",
        "\n",
        "\n",
        "\n",
        "def print_with_border(string, char):\n",
        "    \"\"\"!!!\"\"\"\n",
        "    border = char * (len(string) + 2)\n",
        "    print(border)\n",
        "    print(f\"{char}{string}{char}\")\n",
        "    print(border)\n",
        "\n",
        "\n",
        "s = str(input(\"Введите строку: \"))\n",
        "k = input(\"введите символ: \")\n",
        "print_with_border(s,k)\n",
        "\n",
        "# --------------\n",
        "# Пример вывода:\n",
        "#\n",
        "# Введите строку: Просто текст\n",
        "# Введите символ: +\n",
        "# ++++++++++++++\n",
        "# +Просто текст+\n",
        "# ++++++++++++++"
      ]
    }
  ]
}