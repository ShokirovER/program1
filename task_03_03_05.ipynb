{
  "nbformat": 4,
  "nbformat_minor": 0,
  "metadata": {
    "colab": {
      "provenance": [],
      "authorship_tag": "ABX9TyNuJZ4SV9jGUzzbfqhx6u+s",
      "include_colab_link": true
    },
    "kernelspec": {
      "name": "python3",
      "display_name": "Python 3"
    },
    "language_info": {
      "name": "python"
    }
  },
  "cells": [
    {
      "cell_type": "markdown",
      "metadata": {
        "id": "view-in-github",
        "colab_type": "text"
      },
      "source": [
        "<a href=\"https://colab.research.google.com/github/ShokirovER/program1/blob/main/task_03_03_05.ipynb\" target=\"_parent\"><img src=\"https://colab.research.google.com/assets/colab-badge.svg\" alt=\"Open In Colab\"/></a>"
      ]
    },
    {
      "cell_type": "code",
      "execution_count": 6,
      "metadata": {
        "id": "ILRKgidir1rx"
      },
      "outputs": [],
      "source": [
        "# Задание task_03_03_05.\n",
        "#\n",
        "# Выполнил: Шокиров Е.Р.\n",
        "# Группа: ЦИБ-241\n",
        "\n",
        "\n",
        "\n",
        "\"\"\"\n",
        "Ошибки (номера строк через пробел, данная строка - №2): !!!\n",
        "\"\"\"\n",
        "\n",
        "\n",
        "def non_negatives(nums):\n",
        "    \"\"\"Удалить из списка чисел 'nums' отрицательные элементы и вернуть\n",
        "    измененный список.\"\"\"\n",
        "    for i in range(len(nums)):\n",
        "        if nums[i] < 0:\n",
        "            del nums[i]\n",
        "\n",
        "    return nums\n",
        "\n",
        "# import random\n",
        "#\n",
        "# n = 10\n",
        "# nums = [round(random.uniform(-10, 10), 2) for i in range(n)]\n",
        "# print(nums)\n",
        "#\n",
        "# non_negatives(nums)\n",
        "# print(nums)\n",
        "\n",
        "\n",
        "\"\"\"\n",
        "Ошибки (номера строк через пробел, данная строка - №2): 7\n",
        "\"\"\"\n",
        "\n",
        "\n",
        "def non_negatives(nums):\n",
        "    \"\"\"Удалить из списка чисел 'nums' отрицательные элементы и вернуть\n",
        "    измененный список.\"\"\"\n",
        "    i = 0\n",
        "    while i < len(nums):\n",
        "        if nums[i] < 0:\n",
        "            del nums[i]\n",
        "        else:\n",
        "            i += 1\n",
        "\n",
        "    return nums"
      ]
    }
  ]
}