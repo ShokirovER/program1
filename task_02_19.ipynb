{
  "nbformat": 4,
  "nbformat_minor": 0,
  "metadata": {
    "colab": {
      "provenance": [],
      "authorship_tag": "ABX9TyO7yanUy+Als7LUnyjyOQFB",
      "include_colab_link": true
    },
    "kernelspec": {
      "name": "python3",
      "display_name": "Python 3"
    },
    "language_info": {
      "name": "python"
    }
  },
  "cells": [
    {
      "cell_type": "markdown",
      "metadata": {
        "id": "view-in-github",
        "colab_type": "text"
      },
      "source": [
        "<a href=\"https://colab.research.google.com/github/ShokirovER/program1/blob/main/task_02_19.ipynb\" target=\"_parent\"><img src=\"https://colab.research.google.com/assets/colab-badge.svg\" alt=\"Open In Colab\"/></a>"
      ]
    },
    {
      "cell_type": "code",
      "execution_count": 27,
      "metadata": {
        "colab": {
          "base_uri": "https://localhost:8080/"
        },
        "id": "NlwTZmvwmLAO",
        "outputId": "1e65d20a-dc18-440b-aff6-dc59a97e1d9d"
      },
      "outputs": [
        {
          "output_type": "stream",
          "name": "stdout",
          "text": [
            "a = 1\n",
            "b = 10\n",
            "c = 2\n",
            "2 4 6 8 10 "
          ]
        }
      ],
      "source": [
        "# Задание task_02_19.\n",
        "#\n",
        "# Выполнил: Шокиров Е.Р.\n",
        "# Группа: ЦИБ - 241\n",
        "\n",
        "\n",
        "\n",
        "a = int(input('a = '))\n",
        "b = int(input('b = '))\n",
        "c = int(input('c = '))\n",
        "\n",
        "for i in range(a, b+1):\n",
        "  if i % c == 0:\n",
        "    print(i, end = ' ')\n",
        "\n",
        "# --------------\n",
        "# Пример вывода:\n",
        "#\n",
        "# a = 1\n",
        "# b = 10\n",
        "# c = 2\n",
        "# 2 4 6 8 10"
      ]
    }
  ]
}