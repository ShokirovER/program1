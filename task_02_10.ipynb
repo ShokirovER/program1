{
  "nbformat": 4,
  "nbformat_minor": 0,
  "metadata": {
    "colab": {
      "provenance": [],
      "authorship_tag": "ABX9TyOb7i+62jsflsP0+WU6Uztl",
      "include_colab_link": true
    },
    "kernelspec": {
      "name": "python3",
      "display_name": "Python 3"
    },
    "language_info": {
      "name": "python"
    }
  },
  "cells": [
    {
      "cell_type": "markdown",
      "metadata": {
        "id": "view-in-github",
        "colab_type": "text"
      },
      "source": [
        "<a href=\"https://colab.research.google.com/github/ShokirovER/program1/blob/main/task_02_10.ipynb\" target=\"_parent\"><img src=\"https://colab.research.google.com/assets/colab-badge.svg\" alt=\"Open In Colab\"/></a>"
      ]
    },
    {
      "cell_type": "code",
      "execution_count": 1,
      "metadata": {
        "colab": {
          "base_uri": "https://localhost:8080/"
        },
        "id": "KQM5nZ6UjVRV",
        "outputId": "23d0efbb-c0eb-4379-fa70-e17cb07cf3f7"
      },
      "outputs": [
        {
          "output_type": "stream",
          "name": "stdout",
          "text": [
            "n = 12345\n",
            "Сумма =  15\n",
            "Количество =  5\n"
          ]
        }
      ],
      "source": [
        "# Задание task_02_10.\n",
        "#\n",
        "# Выполнил: Шокиров Е.Р.\n",
        "# Группа: ЦИБ - 241\n",
        "# E-mail: ShokirovER123@mgpu.ru\n",
        "\n",
        "\n",
        "n = int(input('n = '))\n",
        "\n",
        "n_sum = 0\n",
        "n_count = 0\n",
        "\n",
        "while n > 0:\n",
        "  last_num = n % 10\n",
        "  n_sum += last_num\n",
        "  n_count += 1\n",
        "  n = n // 10\n",
        "print('Сумма = ', n_sum)\n",
        "print('Количество = ', n_count)\n",
        "# --------------\n",
        "# Пример вывода:\n",
        "#\n",
        "# n = 12345\n",
        "# Сумма = 15\n",
        "# Количество = 5"
      ]
    }
  ]
}