{
  "nbformat": 4,
  "nbformat_minor": 0,
  "metadata": {
    "colab": {
      "provenance": [],
      "authorship_tag": "ABX9TyNsKYmHgGdpUoBw5rjfrC7B",
      "include_colab_link": true
    },
    "kernelspec": {
      "name": "python3",
      "display_name": "Python 3"
    },
    "language_info": {
      "name": "python"
    }
  },
  "cells": [
    {
      "cell_type": "markdown",
      "metadata": {
        "id": "view-in-github",
        "colab_type": "text"
      },
      "source": [
        "<a href=\"https://colab.research.google.com/github/ShokirovER/program1/blob/main/task_03_01_16.ipynb\" target=\"_parent\"><img src=\"https://colab.research.google.com/assets/colab-badge.svg\" alt=\"Open In Colab\"/></a>"
      ]
    },
    {
      "cell_type": "code",
      "execution_count": 12,
      "metadata": {
        "colab": {
          "base_uri": "https://localhost:8080/"
        },
        "id": "llK_wSGKxkCF",
        "outputId": "8662f885-2370-46fd-b463-1474ba489819"
      },
      "outputs": [
        {
          "output_type": "stream",
          "name": "stdout",
          "text": [
            "125\n",
            "125\n"
          ]
        }
      ],
      "source": [
        "# Задание task_03_01_16.\n",
        "#\n",
        "# Выполнил: Шокиров Е.Р.\n",
        "# Группа: ЦИБ-241\n",
        "\n",
        "def pow1(value, power):\n",
        "    \"\"\"Вернуть 'value' в степени 'power'.\n",
        "\n",
        "    Параметры:\n",
        "        - value: число, которое нужно возвести в степень (int или float).\n",
        "        - power: степень, в которую нужно возвести число (неотрицательное целое число).\n",
        "\n",
        "    Результат:\n",
        "        - value ** power.\n",
        "    \"\"\"\n",
        "    result = 1\n",
        "    for _ in range(power):\n",
        "        result *= value\n",
        "    return result\n",
        "\n",
        "\n",
        "def pow2(value, power):\n",
        "    \"\"\"Вернуть 'value' в степени 'power'. Рекурсивный алгоритм.\n",
        "\n",
        "    Параметры:\n",
        "        - value: число, которое нужно возвести в степень (int или float).\n",
        "        - power: степень, в которую нужно возвести число (неотрицательное целое число).\n",
        "\n",
        "    Результат:\n",
        "        - value ** power.\n",
        "    \"\"\"\n",
        "    if power == 0:\n",
        "        return 1\n",
        "    else:\n",
        "        return value * pow2(value, power - 1)\n",
        "\n",
        "\n",
        "print(pow1(5, 3))\n",
        "print(pow2(5, 3))\n",
        "\n",
        "# --------------\n",
        "# Пример вывода:\n",
        "#\n",
        "# 125\n",
        "# 125"
      ]
    }
  ]
}