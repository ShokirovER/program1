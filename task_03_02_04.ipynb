{
  "nbformat": 4,
  "nbformat_minor": 0,
  "metadata": {
    "colab": {
      "provenance": [],
      "authorship_tag": "ABX9TyMYizI1zxr3Npr/7GWc+7g+",
      "include_colab_link": true
    },
    "kernelspec": {
      "name": "python3",
      "display_name": "Python 3"
    },
    "language_info": {
      "name": "python"
    }
  },
  "cells": [
    {
      "cell_type": "markdown",
      "metadata": {
        "id": "view-in-github",
        "colab_type": "text"
      },
      "source": [
        "<a href=\"https://colab.research.google.com/github/ShokirovER/program1/blob/main/task_03_02_04.ipynb\" target=\"_parent\"><img src=\"https://colab.research.google.com/assets/colab-badge.svg\" alt=\"Open In Colab\"/></a>"
      ]
    },
    {
      "cell_type": "code",
      "execution_count": 3,
      "metadata": {
        "id": "e6g-03GPrWo1"
      },
      "outputs": [],
      "source": [
        "# Задание task_03_02_04.\n",
        "#\n",
        "# Выполнил: Шокиров Е.Р.\n",
        "# Группа: ЦИБ - 241\n",
        "\n",
        "\n",
        "def foo(n):\n",
        "    \"\"\"Алгоритм: Поиск простых чисел от 1 до n\n",
        "\n",
        "    Параметры:\n",
        "        - n (int): число.\n",
        "\n",
        "    Сложность: O(N^2), где N — входное число.\n",
        "    \"\"\"\n",
        "    res = []\n",
        "    for i in range(1, n + 1):\n",
        "        divisors = 0\n",
        "        j = 2\n",
        "        while j < i and divisors == 0:\n",
        "            if i % j == 0:\n",
        "                divisors += 1\n",
        "            j += 1\n",
        "\n",
        "        if divisors == 0:\n",
        "            res.append(i)\n",
        "\n",
        "    return res"
      ]
    }
  ]
}