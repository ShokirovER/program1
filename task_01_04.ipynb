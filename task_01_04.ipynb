{
  "nbformat": 4,
  "nbformat_minor": 0,
  "metadata": {
    "colab": {
      "provenance": [],
      "authorship_tag": "ABX9TyM0GzeC/vJl77fR2u+yqxlz",
      "include_colab_link": true
    },
    "kernelspec": {
      "name": "python3",
      "display_name": "Python 3"
    },
    "language_info": {
      "name": "python"
    }
  },
  "cells": [
    {
      "cell_type": "markdown",
      "metadata": {
        "id": "view-in-github",
        "colab_type": "text"
      },
      "source": [
        "<a href=\"https://colab.research.google.com/github/ShokirovER/program1/blob/main/task_01_04.ipynb\" target=\"_parent\"><img src=\"https://colab.research.google.com/assets/colab-badge.svg\" alt=\"Open In Colab\"/></a>"
      ]
    },
    {
      "cell_type": "code",
      "execution_count": 11,
      "metadata": {
        "colab": {
          "base_uri": "https://localhost:8080/"
        },
        "id": "6tE8fSjUPCg4",
        "outputId": "3a587ec6-4ce8-42e0-8512-492073ec5e18"
      },
      "outputs": [
        {
          "output_type": "stream",
          "name": "stdout",
          "text": [
            "Двузначное число:45\n",
            "Трехзначное число:456\n",
            "Сумма и произведение цифр двузначного числа: 9 20\n",
            "Сумма и произведение цифр трехзначного числа: 15 120\n"
          ]
        }
      ],
      "source": [
        "# Задание task_01_04.\n",
        "#\n",
        "# Выполнил: Шокиров Е.Р.\n",
        "# Группа: ЦИБ - 241\n",
        "\n",
        "\n",
        "# Двузначное число\n",
        "num2 = int(input('Двузначное число:'))\n",
        "# Трехзначное число\n",
        "num3 = int(input('Трехзначное число:'))\n",
        "\n",
        "# 1-я цифра числа 'num2'\n",
        "num2_1 = str(num2)[0]\n",
        "# 2-я цифра числа 'num2'\n",
        "num2_2 = str(num2)[1]\n",
        "num2_1 = int(num2_1)\n",
        "num2_2 = int(num2_2)\n",
        "# Сумма цифр числа 'num2'\n",
        "num2_s = (num2_1 + num2_2)\n",
        "# Произведение цифр числа 'num2'\n",
        "num2_p = num2_1*num2_2\n",
        "\n",
        "# 1-я цифра числа 'num3'\n",
        "num3_1 = str(num3)[0]\n",
        "# 2-я цифра числа 'num3'\n",
        "num3_2 = str(num3)[1]\n",
        "# 3-я цифра числа 'num3'\n",
        "num3_3 = str(num3)[2]\n",
        "num3_1 = int(num3_1)\n",
        "num3_2 = int(num3_2)\n",
        "num3_3 = int(num3_3)\n",
        "# Сумма цифр числа 'num3'\n",
        "num3_s = num3_1 + num3_2 + num3_3\n",
        "# Произведение цифр числа 'num3'\n",
        "num3_p = num3_1*num3_2*num3_3\n",
        "\n",
        "print('Сумма и произведение цифр двузначного числа:', num2_s, num2_p)\n",
        "print('Сумма и произведение цифр трехзначного числа:', num3_s, num3_p)\n",
        "\n",
        "\n",
        "# --------------\n",
        "# Пример вывода:\n",
        "#\n",
        "# Двузначное число: 45\n",
        "# Трехзначное число: 456\n",
        "# Сумма и произведение цифр двузначного числа: 9 20\n",
        "# Сумма и произведение цифр трехзначного числа: 15 120\n"
      ]
    }
  ]
}