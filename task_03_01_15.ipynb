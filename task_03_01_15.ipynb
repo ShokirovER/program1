{
  "nbformat": 4,
  "nbformat_minor": 0,
  "metadata": {
    "colab": {
      "provenance": [],
      "authorship_tag": "ABX9TyMbpupqYVcnU/jwSDpdCI9D",
      "include_colab_link": true
    },
    "kernelspec": {
      "name": "python3",
      "display_name": "Python 3"
    },
    "language_info": {
      "name": "python"
    }
  },
  "cells": [
    {
      "cell_type": "markdown",
      "metadata": {
        "id": "view-in-github",
        "colab_type": "text"
      },
      "source": [
        "<a href=\"https://colab.research.google.com/github/ShokirovER/program1/blob/main/task_03_01_15.ipynb\" target=\"_parent\"><img src=\"https://colab.research.google.com/assets/colab-badge.svg\" alt=\"Open In Colab\"/></a>"
      ]
    },
    {
      "cell_type": "code",
      "execution_count": 4,
      "metadata": {
        "colab": {
          "base_uri": "https://localhost:8080/"
        },
        "id": "llK_wSGKxkCF",
        "outputId": "7921c498-cf67-4f36-b9db-49fad1d623d2"
      },
      "outputs": [
        {
          "output_type": "stream",
          "name": "stdout",
          "text": [
            "Конечное потребление: 100\n",
            "Валовое накопление капитала: 200\n",
            "Государственные расходы: 300\n",
            "Экспорт: 400\n",
            "Импорт: 500\n",
            "ВВП = 500\n",
            "ВВП = 500\n"
          ]
        }
      ],
      "source": [
        "# Задание task_03_01_15.\n",
        "#\n",
        "# Выполнил: Шокиров Е.Р.\n",
        "# Группа: ЦИБ-241\n",
        "\n",
        "def gdp(c, i, g, ex, im):\n",
        "    \"\"\"Вернуть значение ВВП.\n",
        "\n",
        "    Параметры:\n",
        "        - c: конечное потребление\n",
        "        - i: валовое накопление капитала\n",
        "        - g: государственные расходы\n",
        "        - ex: экспорт\n",
        "        - im: импорт\n",
        "\n",
        "    Результат:\n",
        "        - значение ВВП\n",
        "    \"\"\"\n",
        "    return c + i + g + ex - im\n",
        "\n",
        "\n",
        "c = int(input(\"Конечное потребление: \"))\n",
        "i = int(input(\"Валовое накопление капитала: \"))\n",
        "g = int(input(\"Государственные расходы: \"))\n",
        "ex = int(input(\"Экспорт: \"))\n",
        "im = int(input(\"Импорт: \"))\n",
        "\n",
        "info_dict = {'c': c, 'i': i, 'g': g, 'ex': ex, 'im': im}\n",
        "info_list = [c, i, g, ex, im]\n",
        "\n",
        "gdp_from_list = gdp(*info_list)\n",
        "gdp_from_dict = gdp(**info_dict)\n",
        "\n",
        "print(f\"ВВП = {gdp_from_list}\")\n",
        "print(f\"ВВП = {gdp_from_dict}\")\n",
        "\n",
        "# --------------\n",
        "# Пример вывода:\n",
        "#\n",
        "# Конечное потребление: 100\n",
        "# Валовое накопление капитала: 200\n",
        "# Государственные расходы: 300\n",
        "# Экспорт: 400\n",
        "# Импорт: 500\n",
        "# ВВП = 500\n",
        "# ВВП = 500"
      ]
    }
  ]
}