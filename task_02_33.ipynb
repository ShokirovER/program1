{
  "nbformat": 4,
  "nbformat_minor": 0,
  "metadata": {
    "colab": {
      "provenance": [],
      "authorship_tag": "ABX9TyPlfVfqGCjL5HEpYRg1lrpr",
      "include_colab_link": true
    },
    "kernelspec": {
      "name": "python3",
      "display_name": "Python 3"
    },
    "language_info": {
      "name": "python"
    }
  },
  "cells": [
    {
      "cell_type": "markdown",
      "metadata": {
        "id": "view-in-github",
        "colab_type": "text"
      },
      "source": [
        "<a href=\"https://colab.research.google.com/github/ShokirovER/program1/blob/main/task_02_33.ipynb\" target=\"_parent\"><img src=\"https://colab.research.google.com/assets/colab-badge.svg\" alt=\"Open In Colab\"/></a>"
      ]
    },
    {
      "cell_type": "code",
      "execution_count": 3,
      "metadata": {
        "colab": {
          "base_uri": "https://localhost:8080/"
        },
        "id": "1jZEMhUcr9XO",
        "outputId": "66ef4f9a-9aa5-4f47-81ad-2aa7c8612233"
      },
      "outputs": [
        {
          "output_type": "stream",
          "name": "stdout",
          "text": [
            "Количество сотрудников = 3\n",
            "Петрова Анна Алексеевна Ж 5\n",
            "Семенов Николай Михайлович М 2\n",
            "Михайлов Игорь Васильевич М 3\n",
            "Cамый \"молодой\": Семенов Николай Михайлович\n",
            "Cамый \"старый\": Петрова Анна Алексеевна\n",
            "Введите букву начала имени = и\n",
            "У мужчин таких имен больше\n"
          ]
        }
      ],
      "source": [
        "# Задание task_02_33.\n",
        "#\n",
        "# Выполнил: Шокиров Е.Р.\n",
        "# Группа: ЦИБ - 241\n",
        "\n",
        "\n",
        "\n",
        "# 1. Заполнение списка\n",
        "\n",
        "# Используйте данный список для собственных тестов,\n",
        "# чтобы избежать постоянного ввода значений\n",
        "# Перед автоматической проверкой удалите/закомментируйте его\n",
        "# и используйте ввод с клавиатуры\n",
        "employees = [\n",
        "    [\"Петрова\", \"Анна\", \"Алексеевна\", \"Ж\", 5],\n",
        "    [\"Семенов\", \"Николай\", \"Михайлович\", \"М\", 2],\n",
        "    [\"Михайлов\", \"Игорь\", \"Васильевич\", \"М\", 3]\n",
        "]\n",
        "\n",
        "n = int(input('Количество сотрудников = '))\n",
        "\n",
        "employees = []\n",
        "for _ in range(n):\n",
        "    data = input().split()\n",
        "    data[-1] = int(data[-1])\n",
        "    employees.append(data)\n",
        "\n",
        "# 2. Cамый «молодой» и самый «старый» сотрудник\n",
        "sorted_by_experience = sorted(employees, key=lambda x: x[-1])\n",
        "employee_min = sorted_by_experience[0]\n",
        "employee_max = sorted_by_experience[-1]\n",
        "print(\"Cамый \\\"молодой\\\": {}\".format(\" \".join(employee_min[:3])))\n",
        "print(\"Cамый \\\"старый\\\": {}\".format(\" \".join(employee_max[:3])))\n",
        "\n",
        "# 3. Отдельные списки мужчин и женщин\n",
        "#    В данном случае удобно использовать списковые включения\n",
        "men = [emp for emp in employees if emp[3] == \"М\"]\n",
        "women = [emp for emp in employees if emp[3] == \"Ж\"]\n",
        "\n",
        "k = input(\"Введите букву начала имени = \").strip().lower()\n",
        "\n",
        "men_k_count = 0\n",
        "men_k_count = sum(1 for emp in men if emp[1].lower().startswith(k))\n",
        "\n",
        "women_k_count = 0\n",
        "women_k_count = sum(1 for emp in women if emp[1].lower().startswith(k))\n",
        "\n",
        "if men_k_count > women_k_count:\n",
        "    print(\"У мужчин таких имен больше\")\n",
        "elif women_k_count > men_k_count:\n",
        "    print(\"У женщин таких имен больше\")\n",
        "else:\n",
        "    print(\"Таких имен поровну у мужчин и женщин\")\n",
        "\n",
        "\n",
        "# --------------\n",
        "# Пример вывода:\n",
        "#\n",
        "# Количество сотрудников = 3\n",
        "# Петрова Анна Алексеевна Ж 5\n",
        "# Семенов Николай Михайлович М 2\n",
        "# Михайлов Игорь Васильевич М 3\n",
        "# Cамый \"молодой\": Семенов Николай Михайлович\n",
        "# Cамый \"старый\": Петрова Анна Алексеевна\n",
        "# Введите букву начала имени = а\n",
        "# У женщин таких имен больше\n",
        "#\n",
        "# Количество сотрудников = 3\n",
        "# Петрова Анна Алексеевна Ж 5\n",
        "# Семенов Николай Михайлович М 2\n",
        "# Михайлов Игорь Васильевич М 3\n",
        "# Cамый \"молодой\": Семенов Николай Михайлович\n",
        "# Cамый \"старый\": Петрова Анна Алексеевна\n",
        "# Введите букву начала имени = и\n",
        "# У мужчин таких имен больше\n",
        "#\n",
        "# Количество сотрудников = 3\n",
        "# Петрова Анна Алексеевна Ж 5\n",
        "# Семенов Николай Михайлович М 2\n",
        "# Михайлов Алексей Васильевич М 3\n",
        "# Cамый \"молодой\": Семенов Николай Михайлович\n",
        "# Cамый \"старый\": Петрова Анна Алексеевна\n",
        "# Введите букву начала имени = а\n",
        "# Таких имен поровну у мужчин и женщин"
      ]
    }
  ]
}