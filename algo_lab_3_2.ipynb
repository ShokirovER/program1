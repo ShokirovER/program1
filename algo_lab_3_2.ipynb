{
  "nbformat": 4,
  "nbformat_minor": 0,
  "metadata": {
    "colab": {
      "provenance": [],
      "authorship_tag": "ABX9TyMJFZEnYLZRA1kYL/FKIvU3",
      "include_colab_link": true
    },
    "kernelspec": {
      "name": "python3",
      "display_name": "Python 3"
    },
    "language_info": {
      "name": "python"
    }
  },
  "cells": [
    {
      "cell_type": "markdown",
      "metadata": {
        "id": "view-in-github",
        "colab_type": "text"
      },
      "source": [
        "<a href=\"https://colab.research.google.com/github/ShokirovER/program1/blob/main/algo_lab_3_2.ipynb\" target=\"_parent\"><img src=\"https://colab.research.google.com/assets/colab-badge.svg\" alt=\"Open In Colab\"/></a>"
      ]
    },
    {
      "cell_type": "code",
      "execution_count": 48,
      "metadata": {
        "colab": {
          "base_uri": "https://localhost:8080/"
        },
        "id": "qFKKV-Fw1Z3Q",
        "outputId": "c1345c81-a8fc-4579-8ecc-b29ec03ba405"
      },
      "outputs": [
        {
          "output_type": "stream",
          "name": "stdout",
          "text": [
            "Число 350 найдено на позиции 16\n",
            "Сортировка выбором: [130, 154, 189, 195, 227, 235, 275, 317, 330, 388, 405, 416, 435, 464, 472]\n",
            "Сортировка пузырьком: [23, 52, 74, 183, 183, 191, 243, 261, 288, 353, 371, 411, 469, 472, 487]\n"
          ]
        }
      ],
      "source": [
        "\n",
        "'''Вариант 22\n",
        "\n",
        "Выполнил: Шокиров Е.Р.\n",
        "Группа: ЦИБ - 241\n",
        "\n",
        "1.Реализовать последовательный поиск для массива целых чисел в диапазоне от 0\n",
        "до 500. Найти число 350.\n",
        "\n",
        "2. Реализовать сортировку с помощью прямого выбора для массива целых чисел в\n",
        "диапазоне от 0 до 500.\n",
        "\n",
        "3. Реализовать пузырьковую сортировку для массива целых чисел в диапазоне от 0\n",
        "до 500.'''\n",
        "\n",
        "\n",
        "# Задание 1\n",
        "\n",
        "import random\n",
        "\n",
        "\n",
        "arr = [random.randint(0, 500) for _ in range(100)]\n",
        "\n",
        "\n",
        "def sequential_search(array, target):\n",
        "    for i in range(len(array)):\n",
        "        if array[i] == target:\n",
        "            return i\n",
        "    return -1\n",
        "\n",
        "\n",
        "index = sequential_search(arr, 350)\n",
        "if index != -1:\n",
        "    print(f\"Число 350 найдено на позиции {index}\")\n",
        "else:\n",
        "    print(\"Число 350 не найдено в массиве\")\n",
        "\n",
        "# Задание 2\n",
        "\n",
        "arr_1 = [random.randint(0, 500) for _ in range(15)]\n",
        "def selection_sort(arr):\n",
        "  n = len(arr)\n",
        "  for i in range(n):\n",
        "    min_index = i\n",
        "    for j in range(i+1, n):\n",
        "      if arr[j] < arr[min_index]:\n",
        "        min_index = j\n",
        "    arr[i], arr[min_index] = arr[min_index], arr[i]\n",
        "  return arr\n",
        "sorted_arr_1 = selection_sort(arr_1)\n",
        "print(f'Сортировка выбором: {sorted_arr_1}')\n",
        "\n",
        "\n",
        "\n",
        "# Задание 3\n",
        "arr_2 = [random.randint(0, 500) for _ in range(15)]\n",
        "def bubble_sort(arr):\n",
        "  n = len(arr)\n",
        "  for i in range(n):\n",
        "    swapped = False\n",
        "    for j in range(n - i -1):\n",
        "      if arr[j] > arr[j+1]:\n",
        "        arr[j], arr[j+1] = arr[j+1], arr[j]\n",
        "        swapped = True\n",
        "    if not swapped:\n",
        "      break\n",
        "  return arr\n",
        "\n",
        "\n",
        "sorted_arr_2 = bubble_sort(arr_2)\n",
        "print(f'Сортировка пузырьком: {sorted_arr_2}')"
      ]
    },
    {
      "cell_type": "code",
      "source": [],
      "metadata": {
        "id": "C_Y0K3er2mKA"
      },
      "execution_count": null,
      "outputs": []
    }
  ]
}