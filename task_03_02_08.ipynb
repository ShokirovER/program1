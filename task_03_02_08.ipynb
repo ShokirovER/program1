{
  "nbformat": 4,
  "nbformat_minor": 0,
  "metadata": {
    "colab": {
      "provenance": [],
      "authorship_tag": "ABX9TyNFUY99GA6WxXO3IKgW4OxX",
      "include_colab_link": true
    },
    "kernelspec": {
      "name": "python3",
      "display_name": "Python 3"
    },
    "language_info": {
      "name": "python"
    }
  },
  "cells": [
    {
      "cell_type": "markdown",
      "metadata": {
        "id": "view-in-github",
        "colab_type": "text"
      },
      "source": [
        "<a href=\"https://colab.research.google.com/github/ShokirovER/program1/blob/main/task_03_02_08.ipynb\" target=\"_parent\"><img src=\"https://colab.research.google.com/assets/colab-badge.svg\" alt=\"Open In Colab\"/></a>"
      ]
    },
    {
      "cell_type": "code",
      "execution_count": 6,
      "metadata": {
        "colab": {
          "base_uri": "https://localhost:8080/"
        },
        "id": "t33A3YYHJ-kx",
        "outputId": "ea7e6e3d-3641-441e-ae7d-8c5dc8252d85"
      },
      "outputs": [
        {
          "output_type": "stream",
          "name": "stdout",
          "text": [
            "              i  1 способ (мс.)  2 способ (мс.)  3 способ (мс.)\n",
            "          10000            0.41            1.98            0.40\n",
            "         100000            4.70           37.55            5.31\n",
            "        1000000          286.54          765.40          176.79\n"
          ]
        }
      ],
      "source": [
        "# Задание task_03_02_08.\n",
        "# Выполнил: Шокиров Е.Р.\n",
        "# Группа: ЦИБ-241\n",
        "\n",
        "\n",
        "import random\n",
        "import time\n",
        "\n",
        "\n",
        "def timeit(func, *args, **kw):\n",
        "    \"\"\"Выполнить функицю 'func' с параметрами '*args', '**kw' и\n",
        "    вернуть время выполнения в мс.\"\"\"\n",
        "\n",
        "    time_start = time.time()\n",
        "    res = func(*args, **kw)\n",
        "    time_end = time.time()\n",
        "\n",
        "    return (time_end - time_start) * 1000.0, res\n",
        "\n",
        "\n",
        "def maxmin1(data):\n",
        "    \"\"\"Вернуть минимум и максимум из 'data'.\n",
        "\n",
        "    Алгоритм:\n",
        "        Последовательный перебор всего массива.\n",
        "\n",
        "    Сложность: !!!.\n",
        "\n",
        "    Параметры:\n",
        "        - data (list of int): список целых чисел.\n",
        "\n",
        "    Результат:\n",
        "        tuple: мин. и макс. значения.\"\"\"\n",
        "\n",
        "    if not data:\n",
        "        return (None, None)\n",
        "\n",
        "    min_val = max_val = data[0]\n",
        "    for num in data[1:]:\n",
        "        if num < min_val:\n",
        "            min_val = num\n",
        "        elif num > max_val:\n",
        "            max_val = num\n",
        "    return (min_val, max_val)\n",
        "\n",
        "\n",
        "def maxmin2(data):\n",
        "    \"\"\"Вернуть минимум и максимум из 'data'.\n",
        "\n",
        "    Алгоритм:\n",
        "        Сортировка списка, и возврат первого и последнего элементов.\n",
        "\n",
        "    Сложность: !!!.\n",
        "\n",
        "    Параметры:\n",
        "        - data (list of int): список целых чисел.\n",
        "\n",
        "    Результат:\n",
        "        tuple: мин. и макс. значения.\"\"\"\n",
        "\n",
        "    if not data:\n",
        "        return (None, None)\n",
        "\n",
        "    sorted_data = sorted(data)\n",
        "    return (sorted_data[0], sorted_data[-1])\n",
        "\n",
        "\n",
        "def maxmin3(data):\n",
        "    \"\"\"Вернуть минимум и максимум из 'data'.\n",
        "\n",
        "    Алгоритм:\n",
        "        Используя встроенные функции min() и max().\n",
        "\n",
        "    Сложность: !!!.\n",
        "\n",
        "    Параметры:\n",
        "        - data (list of int): список целых чисел.\n",
        "\n",
        "    Результат:\n",
        "        tuple: мин. и макс. значения.\"\"\"\n",
        "\n",
        "    if not data:\n",
        "        return (None, None)\n",
        "\n",
        "    return (min(data), max(data))\n",
        "\n",
        "if __name__ == \"__main__\":\n",
        "    GEN_LIMIT = 1000000\n",
        "    dataset = []\n",
        "    for i in range(4, 7):\n",
        "        dataset.append(random.sample(range(-GEN_LIMIT, GEN_LIMIT), 10**i))\n",
        "\n",
        "    res = [[\"i\", \"1 способ (мс.)\", \"2 способ (мс.)\", \"3 способ (мс.)\"]]\n",
        "    for data in dataset:\n",
        "        res.append([len(data),\n",
        "                   timeit(maxmin1, data)[0],\n",
        "                   timeit(maxmin2, data)[0],\n",
        "                   timeit(maxmin3, data)[0]])\n",
        "\n",
        "    # Вывод\n",
        "    print(\"{:>15} {:>15} {:>15} {:>15}\".format(*res[0]))\n",
        "    for r in res[1:]:\n",
        "        print(\"{:>15} {:>15.2f} {:>15.2f} {:>15.2f}\".format(*r))\n",
        "\n",
        "# -------------\n",
        "# Пример вывода:\n",
        "#\n",
        "#              i  1 способ (мс.)  2 способ (мс.)  3 способ (мс.)\n",
        "#          10000            1.00            5.00            0.00\n",
        "#            ..."
      ]
    }
  ]
}