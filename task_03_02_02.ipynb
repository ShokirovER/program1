{
  "nbformat": 4,
  "nbformat_minor": 0,
  "metadata": {
    "colab": {
      "provenance": [],
      "authorship_tag": "ABX9TyMi6hVfWeJLHk1O7JkxFleG",
      "include_colab_link": true
    },
    "kernelspec": {
      "name": "python3",
      "display_name": "Python 3"
    },
    "language_info": {
      "name": "python"
    }
  },
  "cells": [
    {
      "cell_type": "markdown",
      "metadata": {
        "id": "view-in-github",
        "colab_type": "text"
      },
      "source": [
        "<a href=\"https://colab.research.google.com/github/ShokirovER/program1/blob/main/task_03_02_02.ipynb\" target=\"_parent\"><img src=\"https://colab.research.google.com/assets/colab-badge.svg\" alt=\"Open In Colab\"/></a>"
      ]
    },
    {
      "cell_type": "code",
      "execution_count": 3,
      "metadata": {
        "id": "e6g-03GPrWo1"
      },
      "outputs": [],
      "source": [
        "# Задание task_03_02_02.\n",
        "#\n",
        "# Выполнил: Шокиров Е.Р.\n",
        "# Группа: ЦИБ - 241\n",
        "\n",
        "\n",
        "\n",
        "def foo(i):\n",
        "    \"\"\"Алгоритм: Преобразование целого числа в строку (деление на 10 с остатком).\n",
        "\n",
        "    Параметры:\n",
        "        - i (int): число.\n",
        "\n",
        "    Сложность: O(log(N)), где N — входное число.\n",
        "    \"\"\"\n",
        "    digits = \"0123456789\"\n",
        "    if i == 0:\n",
        "        return \"0\"\n",
        "    result = \"\"\n",
        "    while i > 0:\n",
        "        result = digits[i%10] + result\n",
        "        i = i // 10\n",
        "    return result"
      ]
    }
  ]
}