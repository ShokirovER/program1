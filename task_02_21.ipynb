{
  "nbformat": 4,
  "nbformat_minor": 0,
  "metadata": {
    "colab": {
      "provenance": [],
      "authorship_tag": "ABX9TyPScaKyaTEskt4EoR3PzszA",
      "include_colab_link": true
    },
    "kernelspec": {
      "name": "python3",
      "display_name": "Python 3"
    },
    "language_info": {
      "name": "python"
    }
  },
  "cells": [
    {
      "cell_type": "markdown",
      "metadata": {
        "id": "view-in-github",
        "colab_type": "text"
      },
      "source": [
        "<a href=\"https://colab.research.google.com/github/ShokirovER/program1/blob/main/task_02_21.ipynb\" target=\"_parent\"><img src=\"https://colab.research.google.com/assets/colab-badge.svg\" alt=\"Open In Colab\"/></a>"
      ]
    },
    {
      "cell_type": "code",
      "execution_count": 33,
      "metadata": {
        "colab": {
          "base_uri": "https://localhost:8080/"
        },
        "id": "NlwTZmvwmLAO",
        "outputId": "3bd55010-c477-4cdf-b3d2-70a7f8bbd3b3"
      },
      "outputs": [
        {
          "output_type": "stream",
          "name": "stdout",
          "text": [
            "n = 5\n",
            "Рост 1-го ученика = 150\n",
            "Рост 2-го ученика = -150\n",
            "Рост 3-го ученика = 160\n",
            "Рост 4-го ученика = 170\n",
            "Рост 5-го ученика = 180\n",
            "Средний рост мальчиков: 150.0\n",
            "Средний рост девочек: 165.0\n"
          ]
        }
      ],
      "source": [
        "# Задание task_02_21.\n",
        "#\n",
        "# Выполнил: Шокиров Е.Р.\n",
        "# Группа: ЦИБ - 241\n",
        "\n",
        "\n",
        "\n",
        "n = int(input('n = '))\n",
        "\n",
        "r_sr_m = 0.0\n",
        "r_sr_d = 0.0\n",
        "counter = 0\n",
        "boys_counter = 0\n",
        "girls_counter = 0\n",
        "for i in range(n):\n",
        "  counter +=1\n",
        "  a = int(input('Рост {}-го ученика = '.format(counter)))\n",
        "  if a > 0:\n",
        "    girls_counter += 1\n",
        "    r_sr_d += a\n",
        "  elif a < 0:\n",
        "    boys_counter +=1\n",
        "    r_sr_m +=a\n",
        "r_sr_m = abs(r_sr_m / boys_counter)\n",
        "r_sr_d = r_sr_d / girls_counter\n",
        "\n",
        "\n",
        "print(\"Средний рост мальчиков: {}\".format(r_sr_m))\n",
        "print(\"Средний рост девочек: {}\".format(r_sr_d))\n",
        "\n",
        "# --------------\n",
        "# Пример вывода:\n",
        "#\n",
        "# n = 5\n",
        "# Рост 1-го ученика = 150\n",
        "# Рост 2-го ученика = -150\n",
        "# Рост 3-го ученика = 160\n",
        "# Рост 4-го ученика = 170\n",
        "# Рост 5-го ученика = 180\n",
        "# Средний рост мальчиков: 150.0\n",
        "# Средний рост девочек: 165.0"
      ]
    }
  ]
}