{
  "nbformat": 4,
  "nbformat_minor": 0,
  "metadata": {
    "colab": {
      "provenance": [],
      "authorship_tag": "ABX9TyMmjPeXiKpEYJSzh0eDGKYE",
      "include_colab_link": true
    },
    "kernelspec": {
      "name": "python3",
      "display_name": "Python 3"
    },
    "language_info": {
      "name": "python"
    }
  },
  "cells": [
    {
      "cell_type": "markdown",
      "metadata": {
        "id": "view-in-github",
        "colab_type": "text"
      },
      "source": [
        "<a href=\"https://colab.research.google.com/github/ShokirovER/program1/blob/main/task_02_07.ipynb\" target=\"_parent\"><img src=\"https://colab.research.google.com/assets/colab-badge.svg\" alt=\"Open In Colab\"/></a>"
      ]
    },
    {
      "cell_type": "code",
      "execution_count": 52,
      "metadata": {
        "colab": {
          "base_uri": "https://localhost:8080/"
        },
        "id": "uUIs85Du8uZU",
        "outputId": "e9aec315-4c38-405c-9995-9f8aed073f96"
      },
      "outputs": [
        {
          "output_type": "stream",
          "name": "stdout",
          "text": [
            "Введите 1-е число: 1\n",
            "Введите 2-е число: 2\n",
            "Введите 3-е число: 3\n",
            "Введите 4-е число: 4\n",
            "Введите 5-е число: 0\n",
            "Сумма = 10\n",
            "Количество = 4\n"
          ]
        }
      ],
      "source": [
        "# Задание task_02_07.\n",
        "#\n",
        "# Выполнил: Шокиров Е.Р.\n",
        "# Группа: ЦИБ - 241\n",
        "\n",
        "\n",
        "\n",
        "nums_sum = 0  # сумма\n",
        "nums_count = 0  # количество\n",
        "n = 1\n",
        "x = int(input('Введите {}-е число: '.format(n)))\n",
        "first_num = x\n",
        "while x != 0:\n",
        "\n",
        "  n = n + 1\n",
        "  x = int(input('Введите {}-е число: '.format(n)))\n",
        "  nums_sum = nums_sum+x\n",
        "  nums_count = nums_count + 1\n",
        "else:\n",
        "  print('Сумма =', nums_sum+first_num)\n",
        "  print('Количество =', nums_count)\n",
        "\n",
        "\n",
        "\n",
        "\n",
        "# Удалите комментарий и допишите код\n",
        "\n",
        "# --------------\n",
        "# Пример вывода:\n",
        "#\n",
        "# Введите 1-е число: 1\n",
        "# Введите 2-е число: 2\n",
        "# Введите 3-е число: 3\n",
        "# Введите 4-е число: 4\n",
        "# Введите 5-е число: 0\n",
        "# Сумма = 10\n",
        "# Количество = 4\n",
        "#\n",
        "# Введите 1-е число: 0\n",
        "# Сумма = 0\n",
        "# Количество = 0"
      ]
    }
  ]
}