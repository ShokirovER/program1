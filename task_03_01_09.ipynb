{
  "nbformat": 4,
  "nbformat_minor": 0,
  "metadata": {
    "colab": {
      "provenance": [],
      "authorship_tag": "ABX9TyNj/t/hLke9pqsD3PNTe/T2",
      "include_colab_link": true
    },
    "kernelspec": {
      "name": "python3",
      "display_name": "Python 3"
    },
    "language_info": {
      "name": "python"
    }
  },
  "cells": [
    {
      "cell_type": "markdown",
      "metadata": {
        "id": "view-in-github",
        "colab_type": "text"
      },
      "source": [
        "<a href=\"https://colab.research.google.com/github/ShokirovER/program1/blob/main/task_03_01_09.ipynb\" target=\"_parent\"><img src=\"https://colab.research.google.com/assets/colab-badge.svg\" alt=\"Open In Colab\"/></a>"
      ]
    },
    {
      "cell_type": "code",
      "execution_count": 14,
      "metadata": {
        "colab": {
          "base_uri": "https://localhost:8080/"
        },
        "id": "XxaWOZMTripE",
        "outputId": "1a411b5e-b124-4155-e845-003ab8b370c1"
      },
      "outputs": [
        {
          "output_type": "stream",
          "name": "stdout",
          "text": [
            "2A\n",
            "1010\n",
            "42\n",
            "10\n"
          ]
        }
      ],
      "source": [
        "\n",
        "# Задание task_03_01_09.\n",
        "#\n",
        "# Выполнил: Шокиров Е.Р.\n",
        "# Группа: ЦИБ - 241\n",
        "\n",
        "\n",
        "\n",
        "LETTERS_EX = {10: \"A\", 11: \"B\", 12: \"C\", 13: \"D\", 14: \"E\", 15: \"F\"}\n",
        "DIGITS_EX = {\"A\": 10, \"B\": 11, \"C\": 12, \"D\": 13, \"E\": 14, \"F\": 15}\n",
        "\n",
        "\n",
        "def to_base(number, base):\n",
        "    \"\"\"Преобразовать десятичное число 'number' в с.с. 'base'.\n",
        "\n",
        "    Параметры:\n",
        "        number (int): десятичное число;\n",
        "        base (int): система счисления.\n",
        "\n",
        "    Результат:\n",
        "        str: число в с.с. 'base'.\"\"\"\n",
        "    if number == 0:\n",
        "        return \"0\"\n",
        "\n",
        "    result = []\n",
        "    is_negative = False\n",
        "\n",
        "    if number < 0:\n",
        "        is_negative = True\n",
        "        number = abs(number)\n",
        "\n",
        "    while number > 0:\n",
        "        remainder = number % base\n",
        "        if remainder >= 10:\n",
        "            result.append(LETTERS_EX[remainder])\n",
        "        else:\n",
        "            result.append(str(remainder))\n",
        "        number = number // base\n",
        "\n",
        "    if is_negative:\n",
        "        result.append(\"-\")\n",
        "\n",
        "    return \"\".join(reversed(result))\n",
        "\n",
        "\n",
        "def from_base(number, base):\n",
        "    \"\"\"Преобразовать число 'number' из с.с. 'base' в десятичную.\n",
        "\n",
        "    Параметры:\n",
        "        number (str): число в системе счисления base;\n",
        "        base (int): система счисления.\n",
        "\n",
        "    Результат:\n",
        "        int: число в 10-й с.с.\"\"\"\n",
        "    number = str(number).upper()\n",
        "    is_negative = False\n",
        "\n",
        "    if number.startswith(\"-\"):\n",
        "        is_negative = True\n",
        "        number = number[1:]\n",
        "\n",
        "    decimal = 0\n",
        "    for i, digit in enumerate(reversed(number)):\n",
        "        if digit in DIGITS_EX:\n",
        "            value = DIGITS_EX[digit]\n",
        "        else:\n",
        "            value = int(digit)\n",
        "\n",
        "        if value >= base:\n",
        "            raise ValueError(f\"Digit {digit} is invalid for base {base}\")\n",
        "\n",
        "        decimal += value * (base ** i)\n",
        "\n",
        "    return -decimal if is_negative else decimal\n",
        "\n",
        "\n",
        "if __name__ == \"__main__\":\n",
        "    print(to_base(42, 16))\n",
        "    print(to_base(10, 2))\n",
        "    print(from_base(\"2A\", 16))\n",
        "    print(from_base(\"1010\", 2))"
      ]
    }
  ]
}