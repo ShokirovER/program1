{
  "nbformat": 4,
  "nbformat_minor": 0,
  "metadata": {
    "colab": {
      "provenance": [],
      "authorship_tag": "ABX9TyPo2L4iZS0FD4oTBDvtO+bg",
      "include_colab_link": true
    },
    "kernelspec": {
      "name": "python3",
      "display_name": "Python 3"
    },
    "language_info": {
      "name": "python"
    }
  },
  "cells": [
    {
      "cell_type": "markdown",
      "metadata": {
        "id": "view-in-github",
        "colab_type": "text"
      },
      "source": [
        "<a href=\"https://colab.research.google.com/github/ShokirovER/program1/blob/main/lab_a_1_3.ipynb\" target=\"_parent\"><img src=\"https://colab.research.google.com/assets/colab-badge.svg\" alt=\"Open In Colab\"/></a>"
      ]
    },
    {
      "cell_type": "code",
      "execution_count": 5,
      "metadata": {
        "colab": {
          "base_uri": "https://localhost:8080/"
        },
        "id": "XzNREmdXCPJJ",
        "outputId": "bbfe3575-1b19-4896-df9f-4ea6a44f7d47"
      },
      "outputs": [
        {
          "output_type": "stream",
          "name": "stdout",
          "text": [
            "120\n"
          ]
        }
      ],
      "source": [
        "#Реализуйте рекурсивный алгоритм вычисления произведения элементов списка.\n",
        "def recursive_product(x):\n",
        "    if not x:\n",
        "        return 1\n",
        "    return x[0] * recursive_product(x[1:])\n",
        "\n",
        "numbers = [2, 3, 4, 5]\n",
        "result = recursive_product(numbers)\n",
        "print(result)\n",
        "\n",
        "# Сложность алгоритма: O(n^2)"
      ]
    }
  ]
}