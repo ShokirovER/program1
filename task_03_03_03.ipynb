{
  "nbformat": 4,
  "nbformat_minor": 0,
  "metadata": {
    "colab": {
      "provenance": [],
      "authorship_tag": "ABX9TyPKIYZ4wdum//YanmHL/VAQ",
      "include_colab_link": true
    },
    "kernelspec": {
      "name": "python3",
      "display_name": "Python 3"
    },
    "language_info": {
      "name": "python"
    }
  },
  "cells": [
    {
      "cell_type": "markdown",
      "metadata": {
        "id": "view-in-github",
        "colab_type": "text"
      },
      "source": [
        "<a href=\"https://colab.research.google.com/github/ShokirovER/program1/blob/main/task_03_03_03.ipynb\" target=\"_parent\"><img src=\"https://colab.research.google.com/assets/colab-badge.svg\" alt=\"Open In Colab\"/></a>"
      ]
    },
    {
      "cell_type": "code",
      "execution_count": 3,
      "metadata": {
        "id": "ILRKgidir1rx"
      },
      "outputs": [],
      "source": [
        "# Задание task_03_03_03.\n",
        "#\n",
        "# Выполнил: Шокиров Е.Р.\n",
        "# Группа: ЦИБ-241\n",
        "\n",
        "\n",
        "\n",
        "\"\"\"\n",
        "Ошибки (номера строк через пробел, данная строка - №2): !!!\n",
        "\"\"\"\n",
        "\n",
        "\n",
        "def first_vacant_row(seats):\n",
        "    \"\"\"Вернуть первый ряд, в котором имеется больше всего\n",
        "    свободных мест и их количество.\n",
        "\n",
        "    Возвращаемая нумерация рядов с 1. Если свободных мест нет, вернуть 0, 0.\n",
        "\n",
        "    Параметры:\n",
        "        - seats (list of list): информация о проданных билетах\n",
        "                                (1 - продано, 0 - нет).\n",
        "\n",
        "    Результат:\n",
        "        - tuple (ряд, количество мест).\n",
        "    \"\"\"\n",
        "    max_count = 0\n",
        "    max_row = 0\n",
        "    for row_index, row in enumerate(seats):\n",
        "        available_seats_count = row.count(0)  # 0 - пусто\n",
        "        if available_seats_count >= max_count:\n",
        "            max_row = row_index\n",
        "            max_count = available_seats_count\n",
        "\n",
        "    return max_row, max_count\n",
        "\n",
        "# import random\n",
        "#\n",
        "# random.seed(50)\n",
        "#\n",
        "# ROWS_MAX = 10\n",
        "# SEATS_MAX = 5\n",
        "#\n",
        "# seats = [[random.randint(0, 1) for seat in range(SEATS_MAX)]\n",
        "#                                for row in range(ROWS_MAX)]\n",
        "#\n",
        "# for seat in seats:\n",
        "#     print(seat)\n",
        "#\n",
        "# print(first_vacant_row(seats))\n",
        "\n",
        "\n",
        "\"\"\"\n",
        "Ошибки (номера строк через пробел, данная строка - №2): 21 24\n",
        "\"\"\"\n",
        "\n",
        "\n",
        "def first_vacant_row(seats):\n",
        "    \"\"\"Вернуть первый ряд, в котором имеется больше всего\n",
        "    свободных мест и их количество.\n",
        "\n",
        "    Возвращаемая нумерация рядов с 1. Если свободных мест нет, вернуть 0, 0.\n",
        "\n",
        "    Параметры:\n",
        "        - seats (list of list): информация о проданных билетах\n",
        "                                (1 - продано, 0 - нет).\n",
        "\n",
        "    Результат:\n",
        "        - tuple (ряд, количество мест).\n",
        "    \"\"\"\n",
        "    max_count = 0\n",
        "    max_row = 0\n",
        "    for row_index, row in enumerate(seats):\n",
        "        available_seats_count = row.count(0)  # 0 - пусто\n",
        "        if available_seats_count > max_count:\n",
        "            max_row = row_index\n",
        "            max_count = available_seats_count\n",
        "\n",
        "    return max_row + 1 if max_count > 0 else 0, max_count"
      ]
    }
  ]
}