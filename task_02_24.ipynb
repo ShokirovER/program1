{
  "nbformat": 4,
  "nbformat_minor": 0,
  "metadata": {
    "colab": {
      "provenance": [],
      "authorship_tag": "ABX9TyOreZs8EBxOTCJVjPhd6QUH",
      "include_colab_link": true
    },
    "kernelspec": {
      "name": "python3",
      "display_name": "Python 3"
    },
    "language_info": {
      "name": "python"
    }
  },
  "cells": [
    {
      "cell_type": "markdown",
      "metadata": {
        "id": "view-in-github",
        "colab_type": "text"
      },
      "source": [
        "<a href=\"https://colab.research.google.com/github/ShokirovER/program1/blob/main/task_02_24.ipynb\" target=\"_parent\"><img src=\"https://colab.research.google.com/assets/colab-badge.svg\" alt=\"Open In Colab\"/></a>"
      ]
    },
    {
      "cell_type": "code",
      "execution_count": 86,
      "metadata": {
        "colab": {
          "base_uri": "https://localhost:8080/"
        },
        "id": "NlwTZmvwmLAO",
        "outputId": "8d4ce191-14c2-4a32-da21-be951a15b463"
      },
      "outputs": [
        {
          "output_type": "stream",
          "name": "stdout",
          "text": [
            "n = 3\n",
            "1-е число = 3\n",
            "2-е число = 3\n",
            "2\n"
          ]
        }
      ],
      "source": [
        "# Задание task_02_24.\n",
        "#\n",
        "# Выполнил: Шокиров Е.Р.\n",
        "# Группа: ЦИБ - 241\n",
        "\n",
        "\n",
        "\n",
        "n = int(input('n = '))\n",
        "\n",
        "# -1 означает, что последовательность упорядочена по возрастанию\n",
        "# Если это не так, 'index' меняется в цикле на индекс элемента,\n",
        "# нарушающего порядок\n",
        "index = -1\n",
        "nums_count = 1\n",
        "prev = float(input(\"1-е число = \"))\n",
        "for i in range(n-1):\n",
        "  nums_count+=1\n",
        "  a = float(input('{}-е число = '.format(nums_count)))\n",
        "  if a > prev:\n",
        "    continue\n",
        "  if a > a:\n",
        "    index = index\n",
        "  if a <= a:\n",
        "    index = i + 2\n",
        "    break\n",
        "\n",
        "if index == -1:\n",
        "  print('Является')\n",
        "elif index ==i+2:\n",
        "  print(index)\n",
        "# --------------\n",
        "# Пример вывода:\n",
        "#\n",
        "# n = 4\n",
        "# 1-е число = 2\n",
        "# 2-е число = 4.6\n",
        "# 3-е число = 6\n",
        "# 4-е число = 8.3\n",
        "# Является\n",
        "#\n",
        "# n = 3\n",
        "# 1-е число = 3\n",
        "# 2-е число = 3\n",
        "# 2"
      ]
    }
  ]
}